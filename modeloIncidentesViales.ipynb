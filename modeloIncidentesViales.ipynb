{
  "cells": [
    {
      "cell_type": "code",
      "execution_count": 1,
      "metadata": {
        "colab": {
          "base_uri": "https://localhost:8080/"
        },
        "id": "dRao1DTP4RLQ",
        "outputId": "b44a6b61-e55f-4b3d-eaeb-ca7722a36afd"
      },
      "outputs": [],
      "source": [
        "!pip install --upgrade pip\n",
        "!pip install pandas==1.5.3 seaborn==0.12.2 matplotlib==3.7.1"
      ]
    },
    {
      "cell_type": "code",
      "execution_count": 2,
      "metadata": {
        "id": "WzDPF1sM6Y8F"
      },
      "outputs": [],
      "source": [
        "# Importamos las librerias necesarias.\n",
        "import matplotlib.pyplot as plt\n",
        "import pandas as pd\n",
        "import seaborn as sns\n",
        "import re"
      ]
    },
    {
      "cell_type": "markdown",
      "metadata": {},
      "source": [
        "# Limpieza de datos"
      ]
    },
    {
      "cell_type": "code",
      "execution_count": 3,
      "metadata": {
        "colab": {
          "base_uri": "https://localhost:8080/"
        },
        "id": "Y12do-3O6aXg",
        "outputId": "beb35657-6e36-4042-ba4a-bab356167c6f"
      },
      "outputs": [
        {
          "name": "stderr",
          "output_type": "stream",
          "text": [
            "/tmp/ipykernel_4306/705698297.py:2: DtypeWarning: Columns (0) have mixed types. Specify dtype option on import or set low_memory=False.\n",
            "  df = pd.read_csv('/home/crisy/universidad/fundamentosAnalitica/entregaDos/incidentes_viales.csv', delimiter=';')\n"
          ]
        }
      ],
      "source": [
        "# Cargamos la data en la variable df.\n",
        "df = pd.read_csv('/content/incidentes_viales.csv', delimiter=';')"
      ]
    },
    {
      "cell_type": "code",
      "execution_count": 4,
      "metadata": {
        "colab": {
          "base_uri": "https://localhost:8080/",
          "height": 452
        },
        "id": "PPCnWb8r6ncK",
        "outputId": "fdbf4648-846d-4bda-f05e-0ae7a3ea34fd"
      },
      "outputs": [
        {
          "name": "stdout",
          "output_type": "stream",
          "text": [
            "La cantidad de filas que tenemos es: 270765 \n",
            "Y la cantidad de columnas es: 18 \n",
            "\n",
            "Las primeras columnas de nuestro data set nos arrojan la siguiente información:\n"
          ]
        },
        {
          "data": {
            "text/html": [
              "<div>\n",
              "<style scoped>\n",
              "    .dataframe tbody tr th:only-of-type {\n",
              "        vertical-align: middle;\n",
              "    }\n",
              "\n",
              "    .dataframe tbody tr th {\n",
              "        vertical-align: top;\n",
              "    }\n",
              "\n",
              "    .dataframe thead th {\n",
              "        text-align: right;\n",
              "    }\n",
              "</style>\n",
              "<table border=\"1\" class=\"dataframe\">\n",
              "  <thead>\n",
              "    <tr style=\"text-align: right;\">\n",
              "      <th></th>\n",
              "      <th>AÑO</th>\n",
              "      <th>CBML</th>\n",
              "      <th>CLASE_ACCIDENTE</th>\n",
              "      <th>DIRECCION</th>\n",
              "      <th>DIRECCION ENCASILLADA</th>\n",
              "      <th>DISEÑO</th>\n",
              "      <th>EXPEDIENTE</th>\n",
              "      <th>FECHA_ACCIDENTE</th>\n",
              "      <th>FECHA_ACCIDENTES</th>\n",
              "      <th>GRAVEDAD_ACCIDENTE</th>\n",
              "      <th>MES</th>\n",
              "      <th>NRO_RADICADO</th>\n",
              "      <th>NUMCOMUNA</th>\n",
              "      <th>BARRIO</th>\n",
              "      <th>COMUNA</th>\n",
              "      <th>LOCATION</th>\n",
              "      <th>X</th>\n",
              "      <th>Y</th>\n",
              "    </tr>\n",
              "  </thead>\n",
              "  <tbody>\n",
              "    <tr>\n",
              "      <th>0</th>\n",
              "      <td>2015</td>\n",
              "      <td>1013</td>\n",
              "      <td>Caida Ocupante</td>\n",
              "      <td>CR 46 CL 43</td>\n",
              "      <td>CR  046   043  000 00000</td>\n",
              "      <td>Tramo de via</td>\n",
              "      <td>A000259731</td>\n",
              "      <td>21/10/2015 05:58:00</td>\n",
              "      <td>2015-10-21T10:58:00.000Z</td>\n",
              "      <td>Con heridos</td>\n",
              "      <td>10</td>\n",
              "      <td>1508668</td>\n",
              "      <td>10</td>\n",
              "      <td>Barrio Colón</td>\n",
              "      <td>La Candelaria</td>\n",
              "      <td>[-75.5688011014, 6.24312304123]</td>\n",
              "      <td>834949.69</td>\n",
              "      <td>1182357.34</td>\n",
              "    </tr>\n",
              "    <tr>\n",
              "      <th>1</th>\n",
              "      <td>2015</td>\n",
              "      <td>1020</td>\n",
              "      <td>Choque</td>\n",
              "      <td>CR 43 A CL 29</td>\n",
              "      <td>CR  043 A   029  000 00000</td>\n",
              "      <td>Tramo de via</td>\n",
              "      <td>A000261725</td>\n",
              "      <td>05/11/2015 03:00:00</td>\n",
              "      <td>2015-11-05T08:00:00.000Z</td>\n",
              "      <td>Solo daños</td>\n",
              "      <td>11</td>\n",
              "      <td>1510621</td>\n",
              "      <td>10</td>\n",
              "      <td>San Diego</td>\n",
              "      <td>La Candelaria</td>\n",
              "      <td>[-75.5693883283, 6.22870030622]</td>\n",
              "      <td>834880.17</td>\n",
              "      <td>1180762.02</td>\n",
              "    </tr>\n",
              "    <tr>\n",
              "      <th>2</th>\n",
              "      <td>2015</td>\n",
              "      <td>0205</td>\n",
              "      <td>Otro</td>\n",
              "      <td>CR 46 CL 37</td>\n",
              "      <td>CR  046   037  000 00000</td>\n",
              "      <td>Tramo de via</td>\n",
              "      <td>A000259739</td>\n",
              "      <td>21/10/2015 07:40:00</td>\n",
              "      <td>2015-10-21T12:40:00.000Z</td>\n",
              "      <td>Con heridos</td>\n",
              "      <td>10</td>\n",
              "      <td>1508691</td>\n",
              "      <td>02</td>\n",
              "      <td>La Francia</td>\n",
              "      <td>Santa Cruz</td>\n",
              "      <td>[-75.5503911403, 6.29869502502]</td>\n",
              "      <td>837004.94</td>\n",
              "      <td>1188499.17</td>\n",
              "    </tr>\n",
              "    <tr>\n",
              "      <th>3</th>\n",
              "      <td>2015</td>\n",
              "      <td>0101</td>\n",
              "      <td>Atropello</td>\n",
              "      <td>CR 34 CL 112</td>\n",
              "      <td>CR  034   112  000 00000</td>\n",
              "      <td>Tramo de via</td>\n",
              "      <td>A000259752</td>\n",
              "      <td>21/10/2015 12:00:00</td>\n",
              "      <td>2015-10-21T17:00:00.000Z</td>\n",
              "      <td>Con heridos</td>\n",
              "      <td>10</td>\n",
              "      <td>1508694</td>\n",
              "      <td>01</td>\n",
              "      <td>Santo Domingo Savio No. 1</td>\n",
              "      <td>Popular</td>\n",
              "      <td>[-75.5442195069, 6.30019383306]</td>\n",
              "      <td>837688.53</td>\n",
              "      <td>1188663.05</td>\n",
              "    </tr>\n",
              "    <tr>\n",
              "      <th>4</th>\n",
              "      <td>2015</td>\n",
              "      <td>1504</td>\n",
              "      <td>Choque</td>\n",
              "      <td>CR 50 CL 14</td>\n",
              "      <td>CR  050   014  000 00000</td>\n",
              "      <td>Tramo de via</td>\n",
              "      <td>A000259949</td>\n",
              "      <td>03/11/2015 06:16:00</td>\n",
              "      <td>2015-11-03T11:16:00.000Z</td>\n",
              "      <td>Solo daños</td>\n",
              "      <td>11</td>\n",
              "      <td>1510634</td>\n",
              "      <td>15</td>\n",
              "      <td>Santa Fé</td>\n",
              "      <td>Guayabal</td>\n",
              "      <td>[-75.578180998, 6.21699243701]</td>\n",
              "      <td>833903.11</td>\n",
              "      <td>1179469.60</td>\n",
              "    </tr>\n",
              "  </tbody>\n",
              "</table>\n",
              "</div>"
            ],
            "text/plain": [
              "    AÑO  CBML CLASE_ACCIDENTE      DIRECCION       DIRECCION ENCASILLADA  \\\n",
              "0  2015  1013  Caida Ocupante    CR 46 CL 43    CR  046   043  000 00000   \n",
              "1  2015  1020          Choque  CR 43 A CL 29  CR  043 A   029  000 00000   \n",
              "2  2015  0205            Otro    CR 46 CL 37    CR  046   037  000 00000   \n",
              "3  2015  0101       Atropello   CR 34 CL 112    CR  034   112  000 00000   \n",
              "4  2015  1504          Choque    CR 50 CL 14    CR  050   014  000 00000   \n",
              "\n",
              "         DISEÑO  EXPEDIENTE      FECHA_ACCIDENTE          FECHA_ACCIDENTES  \\\n",
              "0  Tramo de via  A000259731  21/10/2015 05:58:00  2015-10-21T10:58:00.000Z   \n",
              "1  Tramo de via  A000261725  05/11/2015 03:00:00  2015-11-05T08:00:00.000Z   \n",
              "2  Tramo de via  A000259739  21/10/2015 07:40:00  2015-10-21T12:40:00.000Z   \n",
              "3  Tramo de via  A000259752  21/10/2015 12:00:00  2015-10-21T17:00:00.000Z   \n",
              "4  Tramo de via  A000259949  03/11/2015 06:16:00  2015-11-03T11:16:00.000Z   \n",
              "\n",
              "  GRAVEDAD_ACCIDENTE  MES NRO_RADICADO NUMCOMUNA                     BARRIO  \\\n",
              "0        Con heridos   10      1508668        10               Barrio Colón   \n",
              "1         Solo daños   11      1510621        10                  San Diego   \n",
              "2        Con heridos   10      1508691        02                 La Francia   \n",
              "3        Con heridos   10      1508694        01  Santo Domingo Savio No. 1   \n",
              "4         Solo daños   11      1510634        15                   Santa Fé   \n",
              "\n",
              "          COMUNA                         LOCATION          X           Y  \n",
              "0  La Candelaria  [-75.5688011014, 6.24312304123]  834949.69  1182357.34  \n",
              "1  La Candelaria  [-75.5693883283, 6.22870030622]  834880.17  1180762.02  \n",
              "2     Santa Cruz  [-75.5503911403, 6.29869502502]  837004.94  1188499.17  \n",
              "3        Popular  [-75.5442195069, 6.30019383306]  837688.53  1188663.05  \n",
              "4       Guayabal   [-75.578180998, 6.21699243701]  833903.11  1179469.60  "
            ]
          },
          "execution_count": 4,
          "metadata": {},
          "output_type": "execute_result"
        }
      ],
      "source": [
        "print(\"La cantidad de filas que tenemos es:\", df.shape[0],\n",
        "      \"\\nY la cantidad de columnas es:\", df.shape[1],\n",
        "      \"\\n\\nLas primeras columnas de nuestro data set nos arrojan la siguiente información:\")\n",
        "\n",
        "df.head()"
      ]
    },
    {
      "cell_type": "code",
      "execution_count": 5,
      "metadata": {
        "colab": {
          "base_uri": "https://localhost:8080/"
        },
        "id": "8czXO7Ml6yk7",
        "outputId": "917fecc7-e99c-424c-8081-3e279a1a408b"
      },
      "outputs": [
        {
          "name": "stdout",
          "output_type": "stream",
          "text": [
            "<class 'pandas.core.frame.DataFrame'>\n",
            "RangeIndex: 270765 entries, 0 to 270764\n",
            "Data columns (total 18 columns):\n",
            " #   Column                 Non-Null Count   Dtype  \n",
            "---  ------                 --------------   -----  \n",
            " 0   AÑO                    270765 non-null  object \n",
            " 1   CBML                   252609 non-null  object \n",
            " 2   CLASE_ACCIDENTE        270759 non-null  object \n",
            " 3   DIRECCION              270765 non-null  object \n",
            " 4   DIRECCION ENCASILLADA  270374 non-null  object \n",
            " 5   DISEÑO                 269617 non-null  object \n",
            " 6   EXPEDIENTE             270655 non-null  object \n",
            " 7   FECHA_ACCIDENTE        270765 non-null  object \n",
            " 8   FECHA_ACCIDENTES       270765 non-null  object \n",
            " 9   GRAVEDAD_ACCIDENTE     270765 non-null  object \n",
            " 10  MES                    270765 non-null  int64  \n",
            " 11  NRO_RADICADO           270760 non-null  object \n",
            " 12  NUMCOMUNA              270765 non-null  object \n",
            " 13  BARRIO                 251759 non-null  object \n",
            " 14  COMUNA                 257967 non-null  object \n",
            " 15  LOCATION               270765 non-null  object \n",
            " 16  X                      270765 non-null  float64\n",
            " 17  Y                      270765 non-null  float64\n",
            "dtypes: float64(2), int64(1), object(15)\n",
            "memory usage: 37.2+ MB\n"
          ]
        }
      ],
      "source": [
        "df.info()"
      ]
    },
    {
      "cell_type": "markdown",
      "metadata": {
        "id": "hqlsTdXi7DIj"
      },
      "source": [
        "Con lo anterior podemos darnos cuenta que tenemos varios datos faltantes en las siguientes columnas:\n",
        "\n",
        "- CBML = Codigo catastral que corresponde al codigo comuna, barrio, manzana, lote catastral de un predio.\n",
        "- CLASE_ACCIDENTE = Clasificación del IPAT sobre la clase de accidente de transito: choque, atropello, volcamiento, caida de ocupante, incendio, u otro (que no corresponde a las anteriores 5 clasificaciones, p. ej: sumersión)\n",
        "- DIRECCION ENCASILLADA = Dirección encasillada que entrega el geocodificador\n",
        "- DISEÑO = Sitio de la vía donde ocurrió el accidente: Cicloruta, Glorieta, Interseccion, Lote o Predio, Paso a Nivel, Paso Elevado, Paso Inferior, Pontón, Puente, Tramo de via, Tunel, Via peatonal\n",
        "- EXPEDIENTE = Consecutivo que asigna UNE, según el orden de llegada de los expedientes para su diligenciamiento\n",
        "- NRO_RADICADO = Consecutivo que asigna UNE, según el orden de llegada de los expedientes para su diligenciamiento\n",
        "- BARRIO = Barrio de ocurrencia del incidente vial\n",
        "- COMUNA = Denominación con la cual se identifica cada Comuna o Corregimiento. 01:Popular 02:Santa Cruz 03:Manrique 04:Aranjuez 05:Castilla 06:Doce de Octubre 07:Robledo 08:Villa Hermosa 09:Buenos Aires 10:La Candelaria 11:Laureles - Estadio 12:La América 13:San Javier 14:El Poblado 15:Guayabal 16:Belén 50:San Sebastián de Palmitas 60:San Cristobal 70:Altavista 80:San Antonio de Prado 90:Santa Elena 99:Toda la Ciudad"
      ]
    },
    {
      "cell_type": "code",
      "execution_count": 6,
      "metadata": {
        "colab": {
          "base_uri": "https://localhost:8080/"
        },
        "id": "1KI94L5M8KAI",
        "outputId": "371c9e3a-a688-43d8-f326-f0bb616bf536"
      },
      "outputs": [
        {
          "data": {
            "text/plain": [
              "AÑO                       object\n",
              "CBML                      object\n",
              "CLASE_ACCIDENTE           object\n",
              "DIRECCION                 object\n",
              "DIRECCION ENCASILLADA     object\n",
              "DISEÑO                    object\n",
              "EXPEDIENTE                object\n",
              "FECHA_ACCIDENTE           object\n",
              "FECHA_ACCIDENTES          object\n",
              "GRAVEDAD_ACCIDENTE        object\n",
              "MES                        int64\n",
              "NRO_RADICADO              object\n",
              "NUMCOMUNA                 object\n",
              "BARRIO                    object\n",
              "COMUNA                    object\n",
              "LOCATION                  object\n",
              "X                        float64\n",
              "Y                        float64\n",
              "dtype: object"
            ]
          },
          "execution_count": 6,
          "metadata": {},
          "output_type": "execute_result"
        }
      ],
      "source": [
        "df.dtypes"
      ]
    },
    {
      "cell_type": "code",
      "execution_count": 7,
      "metadata": {
        "colab": {
          "base_uri": "https://localhost:8080/",
          "height": 614
        },
        "id": "0GR6sOjQ8kIS",
        "outputId": "09e38c72-8a53-4390-e37d-56c9e4e30d85"
      },
      "outputs": [
        {
          "data": {
            "text/html": [
              "<div>\n",
              "<style scoped>\n",
              "    .dataframe tbody tr th:only-of-type {\n",
              "        vertical-align: middle;\n",
              "    }\n",
              "\n",
              "    .dataframe tbody tr th {\n",
              "        vertical-align: top;\n",
              "    }\n",
              "\n",
              "    .dataframe thead th {\n",
              "        text-align: right;\n",
              "    }\n",
              "</style>\n",
              "<table border=\"1\" class=\"dataframe\">\n",
              "  <thead>\n",
              "    <tr style=\"text-align: right;\">\n",
              "      <th></th>\n",
              "      <th>Columna</th>\n",
              "      <th>Valores nulos</th>\n",
              "    </tr>\n",
              "  </thead>\n",
              "  <tbody>\n",
              "    <tr>\n",
              "      <th>0</th>\n",
              "      <td>AÑO</td>\n",
              "      <td>0</td>\n",
              "    </tr>\n",
              "    <tr>\n",
              "      <th>1</th>\n",
              "      <td>CBML</td>\n",
              "      <td>18156</td>\n",
              "    </tr>\n",
              "    <tr>\n",
              "      <th>2</th>\n",
              "      <td>CLASE_ACCIDENTE</td>\n",
              "      <td>6</td>\n",
              "    </tr>\n",
              "    <tr>\n",
              "      <th>3</th>\n",
              "      <td>DIRECCION</td>\n",
              "      <td>0</td>\n",
              "    </tr>\n",
              "    <tr>\n",
              "      <th>4</th>\n",
              "      <td>DIRECCION ENCASILLADA</td>\n",
              "      <td>391</td>\n",
              "    </tr>\n",
              "    <tr>\n",
              "      <th>5</th>\n",
              "      <td>DISEÑO</td>\n",
              "      <td>1148</td>\n",
              "    </tr>\n",
              "    <tr>\n",
              "      <th>6</th>\n",
              "      <td>EXPEDIENTE</td>\n",
              "      <td>110</td>\n",
              "    </tr>\n",
              "    <tr>\n",
              "      <th>7</th>\n",
              "      <td>FECHA_ACCIDENTE</td>\n",
              "      <td>0</td>\n",
              "    </tr>\n",
              "    <tr>\n",
              "      <th>8</th>\n",
              "      <td>FECHA_ACCIDENTES</td>\n",
              "      <td>0</td>\n",
              "    </tr>\n",
              "    <tr>\n",
              "      <th>9</th>\n",
              "      <td>GRAVEDAD_ACCIDENTE</td>\n",
              "      <td>0</td>\n",
              "    </tr>\n",
              "    <tr>\n",
              "      <th>10</th>\n",
              "      <td>MES</td>\n",
              "      <td>0</td>\n",
              "    </tr>\n",
              "    <tr>\n",
              "      <th>11</th>\n",
              "      <td>NRO_RADICADO</td>\n",
              "      <td>5</td>\n",
              "    </tr>\n",
              "    <tr>\n",
              "      <th>12</th>\n",
              "      <td>NUMCOMUNA</td>\n",
              "      <td>0</td>\n",
              "    </tr>\n",
              "    <tr>\n",
              "      <th>13</th>\n",
              "      <td>BARRIO</td>\n",
              "      <td>19006</td>\n",
              "    </tr>\n",
              "    <tr>\n",
              "      <th>14</th>\n",
              "      <td>COMUNA</td>\n",
              "      <td>12798</td>\n",
              "    </tr>\n",
              "    <tr>\n",
              "      <th>15</th>\n",
              "      <td>LOCATION</td>\n",
              "      <td>0</td>\n",
              "    </tr>\n",
              "    <tr>\n",
              "      <th>16</th>\n",
              "      <td>X</td>\n",
              "      <td>0</td>\n",
              "    </tr>\n",
              "    <tr>\n",
              "      <th>17</th>\n",
              "      <td>Y</td>\n",
              "      <td>0</td>\n",
              "    </tr>\n",
              "  </tbody>\n",
              "</table>\n",
              "</div>"
            ],
            "text/plain": [
              "                  Columna  Valores nulos\n",
              "0                     AÑO              0\n",
              "1                    CBML          18156\n",
              "2         CLASE_ACCIDENTE              6\n",
              "3               DIRECCION              0\n",
              "4   DIRECCION ENCASILLADA            391\n",
              "5                  DISEÑO           1148\n",
              "6              EXPEDIENTE            110\n",
              "7         FECHA_ACCIDENTE              0\n",
              "8        FECHA_ACCIDENTES              0\n",
              "9      GRAVEDAD_ACCIDENTE              0\n",
              "10                    MES              0\n",
              "11           NRO_RADICADO              5\n",
              "12              NUMCOMUNA              0\n",
              "13                 BARRIO          19006\n",
              "14                 COMUNA          12798\n",
              "15               LOCATION              0\n",
              "16                      X              0\n",
              "17                      Y              0"
            ]
          },
          "execution_count": 7,
          "metadata": {},
          "output_type": "execute_result"
        }
      ],
      "source": [
        "# Validación de valores nulos\n",
        "null = df.isnull().sum()\n",
        "nullTable = pd.DataFrame({'Columna': df.columns, 'Valores nulos': null})\n",
        "nullTable = nullTable.reset_index(drop=True)\n",
        "nullTable"
      ]
    },
    {
      "cell_type": "markdown",
      "metadata": {
        "id": "bYiInE7E-nQW"
      },
      "source": [
        "Ahora que no tenemos nulos, vamos a validar los valores duplicados que podemos tener."
      ]
    },
    {
      "cell_type": "code",
      "execution_count": 8,
      "metadata": {
        "colab": {
          "base_uri": "https://localhost:8080/",
          "height": 614
        },
        "id": "54clzmDJ8xlr",
        "outputId": "25fa797d-eccf-4806-b6d7-590a602db3fd"
      },
      "outputs": [
        {
          "data": {
            "text/html": [
              "<div>\n",
              "<style scoped>\n",
              "    .dataframe tbody tr th:only-of-type {\n",
              "        vertical-align: middle;\n",
              "    }\n",
              "\n",
              "    .dataframe tbody tr th {\n",
              "        vertical-align: top;\n",
              "    }\n",
              "\n",
              "    .dataframe thead th {\n",
              "        text-align: right;\n",
              "    }\n",
              "</style>\n",
              "<table border=\"1\" class=\"dataframe\">\n",
              "  <thead>\n",
              "    <tr style=\"text-align: right;\">\n",
              "      <th></th>\n",
              "      <th>Columna</th>\n",
              "      <th>Duplicados</th>\n",
              "    </tr>\n",
              "  </thead>\n",
              "  <tbody>\n",
              "    <tr>\n",
              "      <th>0</th>\n",
              "      <td>AÑO</td>\n",
              "      <td>3</td>\n",
              "    </tr>\n",
              "    <tr>\n",
              "      <th>1</th>\n",
              "      <td>CBML</td>\n",
              "      <td>3</td>\n",
              "    </tr>\n",
              "    <tr>\n",
              "      <th>2</th>\n",
              "      <td>CLASE_ACCIDENTE</td>\n",
              "      <td>3</td>\n",
              "    </tr>\n",
              "    <tr>\n",
              "      <th>3</th>\n",
              "      <td>DIRECCION</td>\n",
              "      <td>3</td>\n",
              "    </tr>\n",
              "    <tr>\n",
              "      <th>4</th>\n",
              "      <td>DIRECCION ENCASILLADA</td>\n",
              "      <td>3</td>\n",
              "    </tr>\n",
              "    <tr>\n",
              "      <th>5</th>\n",
              "      <td>DISEÑO</td>\n",
              "      <td>3</td>\n",
              "    </tr>\n",
              "    <tr>\n",
              "      <th>6</th>\n",
              "      <td>EXPEDIENTE</td>\n",
              "      <td>3</td>\n",
              "    </tr>\n",
              "    <tr>\n",
              "      <th>7</th>\n",
              "      <td>FECHA_ACCIDENTE</td>\n",
              "      <td>3</td>\n",
              "    </tr>\n",
              "    <tr>\n",
              "      <th>8</th>\n",
              "      <td>FECHA_ACCIDENTES</td>\n",
              "      <td>3</td>\n",
              "    </tr>\n",
              "    <tr>\n",
              "      <th>9</th>\n",
              "      <td>GRAVEDAD_ACCIDENTE</td>\n",
              "      <td>3</td>\n",
              "    </tr>\n",
              "    <tr>\n",
              "      <th>10</th>\n",
              "      <td>MES</td>\n",
              "      <td>3</td>\n",
              "    </tr>\n",
              "    <tr>\n",
              "      <th>11</th>\n",
              "      <td>NRO_RADICADO</td>\n",
              "      <td>3</td>\n",
              "    </tr>\n",
              "    <tr>\n",
              "      <th>12</th>\n",
              "      <td>NUMCOMUNA</td>\n",
              "      <td>3</td>\n",
              "    </tr>\n",
              "    <tr>\n",
              "      <th>13</th>\n",
              "      <td>BARRIO</td>\n",
              "      <td>3</td>\n",
              "    </tr>\n",
              "    <tr>\n",
              "      <th>14</th>\n",
              "      <td>COMUNA</td>\n",
              "      <td>3</td>\n",
              "    </tr>\n",
              "    <tr>\n",
              "      <th>15</th>\n",
              "      <td>LOCATION</td>\n",
              "      <td>3</td>\n",
              "    </tr>\n",
              "    <tr>\n",
              "      <th>16</th>\n",
              "      <td>X</td>\n",
              "      <td>3</td>\n",
              "    </tr>\n",
              "    <tr>\n",
              "      <th>17</th>\n",
              "      <td>Y</td>\n",
              "      <td>3</td>\n",
              "    </tr>\n",
              "  </tbody>\n",
              "</table>\n",
              "</div>"
            ],
            "text/plain": [
              "                  Columna  Duplicados\n",
              "0                     AÑO           3\n",
              "1                    CBML           3\n",
              "2         CLASE_ACCIDENTE           3\n",
              "3               DIRECCION           3\n",
              "4   DIRECCION ENCASILLADA           3\n",
              "5                  DISEÑO           3\n",
              "6              EXPEDIENTE           3\n",
              "7         FECHA_ACCIDENTE           3\n",
              "8        FECHA_ACCIDENTES           3\n",
              "9      GRAVEDAD_ACCIDENTE           3\n",
              "10                    MES           3\n",
              "11           NRO_RADICADO           3\n",
              "12              NUMCOMUNA           3\n",
              "13                 BARRIO           3\n",
              "14                 COMUNA           3\n",
              "15               LOCATION           3\n",
              "16                      X           3\n",
              "17                      Y           3"
            ]
          },
          "execution_count": 8,
          "metadata": {},
          "output_type": "execute_result"
        }
      ],
      "source": [
        "# Validación de duplicados\n",
        "duplicates = df.duplicated().sum()\n",
        "duplicatesTable = pd.DataFrame({'Columna': df.columns, 'Duplicados': duplicates})\n",
        "duplicatesTable"
      ]
    },
    {
      "cell_type": "markdown",
      "metadata": {
        "id": "i9771IbD-flK"
      },
      "source": [
        "Cómo tenemos varios valores nulos y algunos duplicados, vamos a sacarlos del data set con la siguiente celda."
      ]
    },
    {
      "cell_type": "code",
      "execution_count": 9,
      "metadata": {
        "id": "0aTudLq39GL3"
      },
      "outputs": [],
      "source": [
        "# Eliminamos nulos\n",
        "df.dropna(inplace=True)\n",
        "\n",
        "# Eliminamos duplicados\n",
        "df.drop_duplicates(inplace=True)"
      ]
    },
    {
      "cell_type": "markdown",
      "metadata": {
        "id": "CZa3HMHl-vMt"
      },
      "source": [
        "Ya que no tenemos duplicados, vamos a empezar a validar los valores de las columnas que tenemos.\n",
        "\n",
        "## Año"
      ]
    },
    {
      "cell_type": "code",
      "execution_count": 10,
      "metadata": {
        "colab": {
          "base_uri": "https://localhost:8080/"
        },
        "id": "yzoxCnMy96xw",
        "outputId": "42889efa-7489-4096-eece-88cca66c407e"
      },
      "outputs": [
        {
          "data": {
            "text/plain": [
              "array(['2015', '2014', '2016', '2017', '2018', '2019\\\\r', '2019', '2020',\n",
              "       2020, 2015, 2014, 2016, 2017, 2018], dtype=object)"
            ]
          },
          "execution_count": 10,
          "metadata": {},
          "output_type": "execute_result"
        }
      ],
      "source": [
        "df['AÑO'].unique()"
      ]
    },
    {
      "cell_type": "markdown",
      "metadata": {
        "id": "6k5ahWvo_1yO"
      },
      "source": [
        "Como vemos tenemos diversos valores para el mismo año, con ello en mente vamos a convertir la columna \"AÑO\" a tipo de datos string y luego vamos a extraer los primeros cuatro caracteres (que representan el año)."
      ]
    },
    {
      "cell_type": "code",
      "execution_count": 11,
      "metadata": {
        "colab": {
          "base_uri": "https://localhost:8080/"
        },
        "id": "D07UITxS-G-Z",
        "outputId": "e3d1456e-65eb-45c1-92ba-1bb6ad4b5618"
      },
      "outputs": [
        {
          "data": {
            "text/plain": [
              "array(['2015', '2014', '2016', '2017', '2018', '2019', '2020'],\n",
              "      dtype=object)"
            ]
          },
          "execution_count": 11,
          "metadata": {},
          "output_type": "execute_result"
        }
      ],
      "source": [
        "df[\"AÑO\"] = df[\"AÑO\"].apply(lambda x : re.findall(r\"[0-9]{4}\",str(x))[0])\n",
        "df[\"AÑO\"].unique()"
      ]
    },
    {
      "cell_type": "markdown",
      "metadata": {
        "id": "HMAsHyuqBDVP"
      },
      "source": [
        "## CBML"
      ]
    },
    {
      "cell_type": "code",
      "execution_count": 12,
      "metadata": {
        "colab": {
          "base_uri": "https://localhost:8080/"
        },
        "id": "e-u-yevRAbyj",
        "outputId": "42f7043e-b7df-4def-fa80-13587acfc9b1"
      },
      "outputs": [
        {
          "data": {
            "text/plain": [
              "array(['1013', '1020', '0205', '0101', '1504', '1417', '1105', '1009',\n",
              "       '1018', '0705', '0605', '1012', '0410', '0908', '0512', '0516',\n",
              "       '0911', '1116', '0905', '8000', '1419', '1415', '0405', '1502',\n",
              "       '0701', '1114', '0517', '1307', '0508', '0210', '0809', '1019',\n",
              "       '1113', '1102', '1612', '1010', '0815', '0712', '1017', '0511',\n",
              "       '0301', '1204', '0608', '0707', '1422', '0202', '1005', '1511',\n",
              "       '0103', '0207', '0718', '1423', '1004', '0802', '1006', '1110',\n",
              "       '1003', '0913', '0914', '0912', '1509', '0105', '1608', '0801',\n",
              "       '0709', '1507', '1103', '0402', '0505', '1603', '0415', '1014',\n",
              "       '1421', '1414', '1510', '0509', '0303', '0602', '0305', '1602',\n",
              "       '0606', '0401', '0607', '1610', '1101', '0209', '7001', '1309',\n",
              "       '1107', '1001', '1016', '1310', '0514', '0507', '1506', '1111',\n",
              "       '1615', '0417', '0804', '1503', '1404', '1108', '0412', '0413',\n",
              "       '0717', '0907', '0703', '1015', '6098', '0601', '1211', '1008',\n",
              "       '0513', '1115', '0807', '0310', '1011', '1601', '04100230053',\n",
              "       '0915', '1007', '1403', '0706', '1411', '0110', '0408', '0308',\n",
              "       '1621', '0725', '0407', '0409', '0510', '0519', '1208', '0306',\n",
              "       '1117', '0906', '1401', '6000', '0904', '1420', '1209', '0201',\n",
              "       '1605', '0708', '1308', '1205', '0713', '0909', '1318', '0710',\n",
              "       '0104', '1406', '9004', '1304', '1112', '1618', '0715', '1109',\n",
              "       '0806', '0503', '0411', '1203', '1207', '0302', '0711', '1405',\n",
              "       '1413', '1201', '0304', '0403', '0311', '0722', '1311', '1410',\n",
              "       '1613', '0307', '0406', '0604', '0502', '1316', '0501', '1202',\n",
              "       '1409', '0414', '0404', '1418', '0106', '0204', '0808', '0813',\n",
              "       '7002', '0724', '0313', '0515', '1305', '0309', '0812', '0211',\n",
              "       '0803', 'Inst_14', '9083', '1604', '1416', '1611', '0603', '1609',\n",
              "       '0720', '1104', '0504', '1412', '1619', '1408', '1313', '0714',\n",
              "       '1614', '0902', '1607', '0810', '1606', 'SN01', '8004', '1306',\n",
              "       '0612', '1616', '0610', '0107', '1407', '1206', 'Inst_16', '6089',\n",
              "       '0916', '1312', '0704', '0', '0206', '0208', '0112', '0611',\n",
              "       '1212', '7087', '6084', '0702', '0109', '0903', '1210', '6017',\n",
              "       '0819', '0816', '1213', '1620', '1106', '0312', '1303', '0102',\n",
              "       '0910', '1302', '0506', '8098', '7084', '0723', '1002', '0719',\n",
              "       '03020770009', '0416', '8005', '1301', '0108', '1501', '1315',\n",
              "       '6087', '0716', '0811', '0814', '0901', '6097', '1617', '1319',\n",
              "       '6010', '1317', '6009', '04150210001', '0609', '0111',\n",
              "       '07140070003', '05120020021', '5089', '0917', '1314', '0203',\n",
              "       '7096', '9086', '04130420012', '9008', '6012', '0314',\n",
              "       '04020060001', '8002', '09140040010', '6001', 'AUC1', '7085',\n",
              "       '9077', '0817', '6088', '5003', '7088', '0315', '9085', '6014',\n",
              "       '0805', '14', '5004', '7097', '11', '8001', '6085', '10', '6015',\n",
              "       '03020770002', '9011', '08190050002', '8003', '03120070459',\n",
              "       '09120370011', '5', '6086', '710', '914', '402', '516', '517',\n",
              "       '307', '513', '301', '108', '502', '80', '509', '507', '209',\n",
              "       '413', '407', '510', '1', '813', '605', '915', '4', '106', '414',\n",
              "       '519', '403', '608', '803', '912', '602', '707', '417', '16',\n",
              "       '910', '708', '303', '410', '202', '501', '512', '701', '715',\n",
              "       '204', '604', '504', '207', '905', '409', '603', '210', '60',\n",
              "       '723', '309', '911', '703', '906', '305', '907', '405', '609',\n",
              "       '812', '801', '302', '601', '819', '416', '506', '508', '412',\n",
              "       '713', '7', '806', '406', '306', '511', '15', '903', '205', '503',\n",
              "       '606', '201', '705', '308', '310', '505', '719', '8', '718', '6',\n",
              "       '104', '904', '607', '717', '411', '810', '103', '815', '401',\n",
              "       '102', '101', '90', '15070500004', '304', '111', '711', '9', '706',\n",
              "       '716', '408', '2', '415', '712', '9006', '807', '913', '12', '211',\n",
              "       '514', '902', '808', '702', '15100160011', '610', '611', '311',\n",
              "       '709', '908', '725', '70', '909', '722', '203', '13', '714', '206',\n",
              "       '916', '107', '724', '105', '515', '110', '809', '811', '313',\n",
              "       '208', '3', '917', '7086', '804', '109', '314', '404', '704',\n",
              "       '112', '720', '2060160380', '3020880015', '802', '2060100002',\n",
              "       '15030720004', '7140070003', '5120020021', '9005', '03020880015',\n",
              "       '901', '312', '8007', '2070240005', '814', '612', '817', '5002',\n",
              "       '9079', '06070090002', '9003', '6004', '9002', '02060160380',\n",
              "       '8089', '8008', '08100330013', '09040350017', '816', '3020770002',\n",
              "       '3020770009', '8006', '7083', '08190040051', '02060100002',\n",
              "       'Inst_19', '6016', 'AUC2', '06070640007', '16060170009'],\n",
              "      dtype=object)"
            ]
          },
          "execution_count": 12,
          "metadata": {},
          "output_type": "execute_result"
        }
      ],
      "source": [
        "df[\"CBML\"].unique()"
      ]
    },
    {
      "cell_type": "markdown",
      "metadata": {
        "id": "V4ptpAclBH-2"
      },
      "source": [
        "En este caso para CBML no se denota un patron que podamos utilizar para eliminar datos que no nos aporte, así que no le realizaremos ninguna manipulación."
      ]
    },
    {
      "cell_type": "markdown",
      "metadata": {
        "id": "XZ86uaiLBd00"
      },
      "source": [
        "## CLASE_ACCIDENTE"
      ]
    },
    {
      "cell_type": "code",
      "execution_count": 13,
      "metadata": {
        "colab": {
          "base_uri": "https://localhost:8080/"
        },
        "id": "y6ZguCdVBR9F",
        "outputId": "560d25f0-6488-442c-e7b4-322050153e6f"
      },
      "outputs": [
        {
          "data": {
            "text/plain": [
              "array(['Caida Ocupante', 'Choque', 'Otro', 'Atropello', 'Volcamiento',\n",
              "       'Caída de Ocupante', 'Incendio'], dtype=object)"
            ]
          },
          "execution_count": 13,
          "metadata": {},
          "output_type": "execute_result"
        }
      ],
      "source": [
        "df[\"CLASE_ACCIDENTE\"].unique()"
      ]
    },
    {
      "cell_type": "markdown",
      "metadata": {
        "id": "M39hlCSTB0uC"
      },
      "source": [
        "Cómo podemos ver tenemos registros con \"Caída de Ocupante\", vamos a reemplazar esto con \"Caida de Ocupante\" y vamos a pasar todas las opciones a minuscula."
      ]
    },
    {
      "cell_type": "code",
      "execution_count": 14,
      "metadata": {
        "colab": {
          "base_uri": "https://localhost:8080/"
        },
        "id": "KHcLpEuoB9TX",
        "outputId": "547285b2-d750-418c-9576-23c734186cb7"
      },
      "outputs": [
        {
          "data": {
            "text/plain": [
              "array(['caida ocupante', 'choque', 'otro', 'atropello', 'volcamiento',\n",
              "       'incendio'], dtype=object)"
            ]
          },
          "execution_count": 14,
          "metadata": {},
          "output_type": "execute_result"
        }
      ],
      "source": [
        "df[\"CLASE_ACCIDENTE\"] = df[\"CLASE_ACCIDENTE\"].apply(lambda x : str(x).replace(\"Caída de Ocupante\",\"Caida Ocupante\").lower())\n",
        "\n",
        "df[\"CLASE_ACCIDENTE\"].unique()"
      ]
    },
    {
      "cell_type": "markdown",
      "metadata": {
        "id": "u9d1WgrWCY_I"
      },
      "source": [
        "## DIRECCION"
      ]
    },
    {
      "cell_type": "markdown",
      "metadata": {
        "id": "wXNa35SeCrO2"
      },
      "source": [
        "Validadremos un ejemplo de 20 registros tomados al azar para validar las direcciones."
      ]
    },
    {
      "cell_type": "code",
      "execution_count": 15,
      "metadata": {
        "colab": {
          "base_uri": "https://localhost:8080/"
        },
        "id": "JpSpkFUUCaa5",
        "outputId": "5fe78a24-deaf-4fed-e2b7-5788164707ef"
      },
      "outputs": [
        {
          "data": {
            "text/plain": [
              "251811         CR 31 CL 107\n",
              "67840           CL 65 CR 78\n",
              "63382           CL 14 CR 70\n",
              "159720       CR 25 CL 2 Sur\n",
              "21641           CL 66 CR 45\n",
              "220836         CR 48 CL 104\n",
              "64219           CR 64 CL 58\n",
              "79959           CR 65 CL 14\n",
              "117767    CL 12 Sur CR 50 G\n",
              "261756          CR 65 CL 56\n",
              "131354       CR 50 A CL 107\n",
              "218189        CL 32 CR 65 F\n",
              "194494          CR 49 CL 28\n",
              "135449      CL 10 D CR 43 B\n",
              "176068          CL 93 CR 23\n",
              "152918          CR 46 CL 60\n",
              "169085     CL 9 Sur CR 43 A\n",
              "131707         CL 44 CR 9 B\n",
              "166843          CR 80 CL 65\n",
              "78543         CL 49 CR 81 C\n",
              "Name: DIRECCION, dtype: object"
            ]
          },
          "execution_count": 15,
          "metadata": {},
          "output_type": "execute_result"
        }
      ],
      "source": [
        "df[\"DIRECCION\"].sample(20)"
      ]
    },
    {
      "cell_type": "markdown",
      "metadata": {
        "id": "4J1MRsGfC2xv"
      },
      "source": [
        "Por lo que podemos ver ya se encuentra correctamente esta columna, así que no será manipulada."
      ]
    },
    {
      "cell_type": "markdown",
      "metadata": {
        "id": "wXOQafk6DCqc"
      },
      "source": [
        "## DIRECCION ENCASILLADA"
      ]
    },
    {
      "cell_type": "markdown",
      "metadata": {
        "id": "1qHzs5KxDCqd"
      },
      "source": [
        "Validadremos un ejemplo de 20 registros tomados al azar para validar las direcciones encasilladas."
      ]
    },
    {
      "cell_type": "code",
      "execution_count": 16,
      "metadata": {
        "colab": {
          "base_uri": "https://localhost:8080/"
        },
        "id": "DkBHbQQ4DCqd",
        "outputId": "7e4c1c42-bd31-4ee0-df1a-9c018aa56fc5"
      },
      "outputs": [
        {
          "data": {
            "text/plain": [
              "236689        CR  046   051  000 00000\n",
              "93665       CR  030   007 A  000 00000\n",
              "188435        CL  056   027  000 00000\n",
              "137774        CR  063   033  000 00000\n",
              "268060        CR  052   004  000 00000\n",
              "149777      CR  043 A   009  000 00000\n",
              "215998        CR  052   025  000 00000\n",
              "222877        CR  043   055  000 00000\n",
              "70897         CR  063   059  000 00000\n",
              "49852         CR  052   035  000 00000\n",
              "88421       CR  045   070 A  000 00000\n",
              "37747       CR  064 AA  120  000 00000\n",
              "154296      DG  079 B   009  000 00000\n",
              "55135         CR  062   077  000 00000\n",
              "12062         CL  037   046  000 00000\n",
              "53116         CR  062   050  000 00000\n",
              "269972    CR  043 A   007 D  000 00000\n",
              "128643       CR  049  S 007  000 00000\n",
              "139955     CR  043 D  S 001  000 00000\n",
              "12874        CR  052  S 014  000 00000\n",
              "Name: DIRECCION ENCASILLADA, dtype: object"
            ]
          },
          "execution_count": 16,
          "metadata": {},
          "output_type": "execute_result"
        }
      ],
      "source": [
        "df[\"DIRECCION ENCASILLADA\"].sample(20)"
      ]
    },
    {
      "cell_type": "markdown",
      "metadata": {
        "id": "-dS1bLvbDCqe"
      },
      "source": [
        "Por lo que podemos ver igual que en la columna anterior esta ya se encuentra correctamente, así que tampoco será manipulada."
      ]
    },
    {
      "cell_type": "markdown",
      "metadata": {
        "id": "J4fgLxgzDnO9"
      },
      "source": [
        "## DISEÑO"
      ]
    },
    {
      "cell_type": "code",
      "execution_count": 17,
      "metadata": {
        "colab": {
          "base_uri": "https://localhost:8080/"
        },
        "id": "hXotw-5IDnPD",
        "outputId": "91acc192-c1aa-430b-f154-73bba9ab19bc"
      },
      "outputs": [
        {
          "data": {
            "text/plain": [
              "array(['Tramo de via', 'Interseccion', 'Glorieta', 'Lote o Predio',\n",
              "       'Paso a Nivel', 'Puente', 'Paso Elevado', 'Ciclo Ruta',\n",
              "       'Paso Inferior', 'Via peatonal', 'Pontón', 'Tunel', 'Pont\\\\xF3n'],\n",
              "      dtype=object)"
            ]
          },
          "execution_count": 17,
          "metadata": {},
          "output_type": "execute_result"
        }
      ],
      "source": [
        "df[\"DISEÑO\"].unique()"
      ]
    },
    {
      "cell_type": "markdown",
      "metadata": {
        "id": "mXvAh6OIDnPD"
      },
      "source": [
        "Cómo podemos ver tenemos registros con \"Pontón\", vamos a reemplazar esto con \"Ponton\" y vamos a pasar todas las opciones a minuscula."
      ]
    },
    {
      "cell_type": "code",
      "execution_count": 18,
      "metadata": {
        "colab": {
          "base_uri": "https://localhost:8080/"
        },
        "id": "xVI4rd_wDnPE",
        "outputId": "41bdf7f3-0c14-4fcb-a019-56cdf9ae0933"
      },
      "outputs": [
        {
          "data": {
            "text/plain": [
              "array(['tramo de via', 'interseccion', 'glorieta', 'lote o predio',\n",
              "       'paso a nivel', 'puente', 'paso elevado', 'ciclo ruta',\n",
              "       'paso inferior', 'via peatonal', 'pontón', 'tunel'], dtype=object)"
            ]
          },
          "execution_count": 18,
          "metadata": {},
          "output_type": "execute_result"
        }
      ],
      "source": [
        "df[\"DISEÑO\"] = df[\"DISEÑO\"].apply(lambda x : str(x).replace(\"Pont\\\\xF3n\",\"Pontón\").lower())\n",
        "\n",
        "\n",
        "df[\"DISEÑO\"].unique()"
      ]
    },
    {
      "cell_type": "markdown",
      "metadata": {
        "id": "4SKDTm31EJat"
      },
      "source": [
        "## EXPEDIENTE"
      ]
    },
    {
      "cell_type": "code",
      "execution_count": 19,
      "metadata": {
        "colab": {
          "base_uri": "https://localhost:8080/"
        },
        "id": "Ug3DbjAmEIyS",
        "outputId": "77f07787-d9ee-44b7-aa38-f847a971d345"
      },
      "outputs": [
        {
          "data": {
            "text/plain": [
              "150306    A000254410\n",
              "153215    A000373233\n",
              "209599    A000841519\n",
              "57262     A000092352\n",
              "46603     A000188550\n",
              "57279     A000092707\n",
              "129768    A000595569\n",
              "229482    A000186018\n",
              "196364    A001008551\n",
              "117379    A000997864\n",
              "122127    A001064596\n",
              "196611    A001009621\n",
              "53142     A000783995\n",
              "9422      A000382424\n",
              "168919    A000596676\n",
              "92310     A001150762\n",
              "235622    A000094991\n",
              "206087    A000853777\n",
              "174719    A000114473\n",
              "263636    A000377786\n",
              "Name: EXPEDIENTE, dtype: object"
            ]
          },
          "execution_count": 19,
          "metadata": {},
          "output_type": "execute_result"
        }
      ],
      "source": [
        "df[\"EXPEDIENTE\"].sample(20)"
      ]
    },
    {
      "cell_type": "markdown",
      "metadata": {
        "id": "kuPUKlHHEHBa"
      },
      "source": [
        "En este caso para EXPEDIENTE no se denota un patron que podamos utilizar para eliminar datos que no nos aporte de forma similar a CBML, así que no le realizaremos ninguna manipulación."
      ]
    },
    {
      "cell_type": "markdown",
      "metadata": {
        "id": "XZXAuxHSE5GQ"
      },
      "source": [
        "## FECHA_ACCIDENTE y FECHA_ACCIDENTES"
      ]
    },
    {
      "cell_type": "code",
      "execution_count": 20,
      "metadata": {
        "colab": {
          "base_uri": "https://localhost:8080/"
        },
        "id": "usoqDS8BEU_O",
        "outputId": "e039e2ae-42b6-4643-b4b4-88a2bb9a1bb5"
      },
      "outputs": [
        {
          "data": {
            "text/plain": [
              "95670     13/07/2020 01:30:00\n",
              "122127    11/09/2019 08:30:00\n",
              "21537     04/09/2018 11:20:00\n",
              "15653     12/12/2017 14:30:00\n",
              "263427    02/07/2015 11:30:00\n",
              "114685    18/03/2019 09:38:00\n",
              "61502     30/01/2017 05:00:00\n",
              "152202    09/10/2015 12:00:00\n",
              "230204    16/07/2014 11:30:00\n",
              "223632    02/10/2014 18:15:00\n",
              "110629    03/06/2018 12:30:00\n",
              "187262    29/06/2018 14:44:00\n",
              "89526     18/04/2017 17:30:00\n",
              "157577    02/12/2015 04:30:00\n",
              "170861    11/11/2017 00:10:00\n",
              "63258     15/07/2014 16:20:00\n",
              "203615    28/02/2018 08:10:00\n",
              "31447     02/04/2019 15:40:00\n",
              "6190      24/05/2017 18:00:00\n",
              "183780    19/03/2020 20:30:00\n",
              "Name: FECHA_ACCIDENTE, dtype: object"
            ]
          },
          "execution_count": 20,
          "metadata": {},
          "output_type": "execute_result"
        }
      ],
      "source": [
        "df[\"FECHA_ACCIDENTE\"].sample(20)"
      ]
    },
    {
      "cell_type": "code",
      "execution_count": 21,
      "metadata": {
        "colab": {
          "base_uri": "https://localhost:8080/"
        },
        "id": "7AD27upEFClX",
        "outputId": "57c2cb5f-d3bb-47b1-9404-d4f9e84a47d5"
      },
      "outputs": [
        {
          "data": {
            "text/plain": [
              "193151   2019-05-30 15:10:00\n",
              "48687    2017-09-23 18:15:00\n",
              "267404   2015-10-09 07:50:00\n",
              "198145   2019-09-20 15:45:00\n",
              "176412   2017-01-24 11:10:00\n",
              "250688   2016-07-02 23:10:00\n",
              "96086    2020-08-04 05:07:00\n",
              "231300   2015-04-13 08:10:00\n",
              "85066    2015-11-24 06:00:00\n",
              "154133   2017-08-24 16:10:00\n",
              "219623   2014-10-20 13:00:00\n",
              "15285    2018-01-28 10:30:00\n",
              "220748   2014-08-06 15:30:00\n",
              "207381   2018-03-24 07:00:00\n",
              "33532    2019-05-26 10:00:00\n",
              "139758   2015-12-07 02:30:00\n",
              "36720    2019-08-10 19:00:00\n",
              "144818   2016-03-30 05:26:00\n",
              "20095    2018-08-12 08:00:00\n",
              "142808   2016-03-01 08:00:00\n",
              "Name: FECHA_ACCIDENTE, dtype: datetime64[ns]"
            ]
          },
          "execution_count": 21,
          "metadata": {},
          "output_type": "execute_result"
        }
      ],
      "source": [
        "df[\"FECHA_ACCIDENTE\"] = pd.to_datetime(df[\"FECHA_ACCIDENTE\"], dayfirst=True)\n",
        "df[\"FECHA_ACCIDENTE\"].sample(20)"
      ]
    },
    {
      "cell_type": "code",
      "execution_count": 22,
      "metadata": {
        "colab": {
          "base_uri": "https://localhost:8080/"
        },
        "id": "g4GHaR3dFqIL",
        "outputId": "96ad418b-1199-4bb6-90e1-a431cc68daf7"
      },
      "outputs": [
        {
          "data": {
            "text/plain": [
              "213179   2018-12-14 23:10:00+00:00\n",
              "158792   2016-06-12 20:30:00+00:00\n",
              "7862     2017-07-11 16:30:00+00:00\n",
              "213713   2018-11-09 16:00:00+00:00\n",
              "4363     2015-10-10 07:00:00+00:00\n",
              "44996    2017-08-15 17:00:00+00:00\n",
              "124931   2019-11-10 06:00:00+00:00\n",
              "237532   2015-12-17 17:40:00+00:00\n",
              "155953   2017-10-10 11:00:00+00:00\n",
              "83006    2016-09-15 16:40:00+00:00\n",
              "152384   2015-10-29 14:30:00+00:00\n",
              "79546    2015-06-17 15:15:00+00:00\n",
              "208338   2018-08-24 18:00:00+00:00\n",
              "63768    2020-01-10 20:30:00+00:00\n",
              "127294   2017-09-21 21:50:00+00:00\n",
              "90433    2020-01-06 16:20:00+00:00\n",
              "149147   2015-07-18 21:00:00+00:00\n",
              "53573    2017-11-29 02:55:00+00:00\n",
              "153656   2017-06-12 15:00:00+00:00\n",
              "183267   2020-03-07 01:20:00+00:00\n",
              "Name: FECHA_ACCIDENTES, dtype: datetime64[ns, UTC]"
            ]
          },
          "execution_count": 22,
          "metadata": {},
          "output_type": "execute_result"
        }
      ],
      "source": [
        "df[\"FECHA_ACCIDENTES\"] = pd.to_datetime(df[\"FECHA_ACCIDENTES\"], dayfirst=True)\n",
        "df[\"FECHA_ACCIDENTES\"].sample(20)"
      ]
    },
    {
      "cell_type": "markdown",
      "metadata": {
        "id": "03S-U4VcJENC"
      },
      "source": [
        "Dejamos ambas columnas de fecha con su tipo de datos correspondiente."
      ]
    },
    {
      "cell_type": "markdown",
      "metadata": {
        "id": "ISkyjVCzJMZD"
      },
      "source": [
        "## GRAVEDAD_ACCIDENTE"
      ]
    },
    {
      "cell_type": "code",
      "execution_count": 23,
      "metadata": {
        "colab": {
          "base_uri": "https://localhost:8080/"
        },
        "id": "uw21aYiIJMZJ",
        "outputId": "c2422b03-1cf0-4bd8-d45e-d1ef47455a05"
      },
      "outputs": [
        {
          "data": {
            "text/plain": [
              "array(['Con heridos', 'Solo daños', 'Solo da\\\\xF1os', 'Con muertos'],\n",
              "      dtype=object)"
            ]
          },
          "execution_count": 23,
          "metadata": {},
          "output_type": "execute_result"
        }
      ],
      "source": [
        "df[\"GRAVEDAD_ACCIDENTE\"].unique()"
      ]
    },
    {
      "cell_type": "markdown",
      "metadata": {
        "id": "-UdufMcSJMZJ"
      },
      "source": [
        "Cómo podemos ver tenemos registros con \"Solo da\\\\xF1os\", vamos a reemplazar esto con \"Solo daños\" y vamos a pasar todas las opciones a minuscula."
      ]
    },
    {
      "cell_type": "code",
      "execution_count": 24,
      "metadata": {
        "colab": {
          "base_uri": "https://localhost:8080/"
        },
        "id": "Das77q3TJMZJ",
        "outputId": "a9d46e15-4980-451c-bf09-4e8799067927"
      },
      "outputs": [
        {
          "data": {
            "text/plain": [
              "array(['con heridos', 'solo daños', 'con muertos'], dtype=object)"
            ]
          },
          "execution_count": 24,
          "metadata": {},
          "output_type": "execute_result"
        }
      ],
      "source": [
        "df[\"GRAVEDAD_ACCIDENTE\"]=df[\"GRAVEDAD_ACCIDENTE\"].apply(lambda x : str(x).replace(\"Solo da\\\\xF1os\",\"Solo daños\").lower())\n",
        "\n",
        "df[\"GRAVEDAD_ACCIDENTE\"].unique()"
      ]
    },
    {
      "cell_type": "markdown",
      "metadata": {
        "id": "6XPdT8PPJav3"
      },
      "source": [
        "## MES"
      ]
    },
    {
      "cell_type": "code",
      "execution_count": 25,
      "metadata": {
        "colab": {
          "base_uri": "https://localhost:8080/"
        },
        "id": "gPxfVPDXJHd5",
        "outputId": "abc8365d-c37e-4d63-bd10-5789283ca51b"
      },
      "outputs": [
        {
          "data": {
            "text/plain": [
              "array([10, 11, 12,  9,  4,  3,  5,  6,  7,  8,  1,  2])"
            ]
          },
          "execution_count": 25,
          "metadata": {},
          "output_type": "execute_result"
        }
      ],
      "source": [
        "df[\"MES\"].unique()"
      ]
    },
    {
      "cell_type": "markdown",
      "metadata": {
        "id": "VdfNP3oEJkB8"
      },
      "source": [
        "Podemos ver que los meses están correctamente, no tenemos valores extraños."
      ]
    },
    {
      "cell_type": "markdown",
      "metadata": {
        "id": "gPhUeGaRJu7F"
      },
      "source": [
        "## NRO_RADICADO"
      ]
    },
    {
      "cell_type": "code",
      "execution_count": 26,
      "metadata": {
        "colab": {
          "base_uri": "https://localhost:8080/"
        },
        "id": "P2Tf3MkdJu7L",
        "outputId": "d72334de-c255-431e-8011-0883adeef4bc"
      },
      "outputs": [
        {
          "data": {
            "text/plain": [
              "127154    1701772\n",
              "126621    1700151\n",
              "158727    1537385\n",
              "9949      1541995\n",
              "65791     1709493\n",
              "117814    1673620\n",
              "196284    1682229\n",
              "37712     1686554\n",
              "36783     1682345\n",
              "10630     1599473\n",
              "211795    1647292\n",
              "147700    1492939\n",
              "14605     1611553\n",
              "191391    1667388\n",
              "32484     1669102\n",
              "75808     1523085\n",
              "51735     1631092\n",
              "160520    1564496\n",
              "9915      1541442\n",
              "235209    1494962\n",
              "Name: NRO_RADICADO, dtype: object"
            ]
          },
          "execution_count": 26,
          "metadata": {},
          "output_type": "execute_result"
        }
      ],
      "source": [
        "df[\"NRO_RADICADO\"].sample(20)"
      ]
    },
    {
      "cell_type": "markdown",
      "metadata": {
        "id": "sFvREFkVJu7L"
      },
      "source": [
        "En este caso para NRO_RADICADO no se denota un patron que podamos utilizar para eliminar datos que no nos aporte de forma similar a CBML y EXPEDIENTE, así que no le realizaremos ninguna manipulación."
      ]
    },
    {
      "cell_type": "markdown",
      "metadata": {
        "id": "4WEjEC1Sa1eS"
      },
      "source": [
        "## NUMCOMUNA"
      ]
    },
    {
      "cell_type": "code",
      "execution_count": 27,
      "metadata": {
        "colab": {
          "base_uri": "https://localhost:8080/"
        },
        "id": "r8L0o1WxJoLy",
        "outputId": "30825fe9-5ae1-4b45-bc2c-b5070edeed12"
      },
      "outputs": [
        {
          "data": {
            "text/plain": [
              "array(['10', '02', '01', '15', '14', '11', '07', '06', '04', '09', '05',\n",
              "       '80', '13', '08', '16', '03', '12', '70', '60', '90', 'In', 'SN',\n",
              "       '0', '50', 'AU', '5', '7', '9', '4', '3', '1', '2', '8', '6',\n",
              "       'Sin Inf'], dtype=object)"
            ]
          },
          "execution_count": 27,
          "metadata": {},
          "output_type": "execute_result"
        }
      ],
      "source": [
        "df[\"NUMCOMUNA\"].unique()"
      ]
    },
    {
      "cell_type": "markdown",
      "metadata": {
        "id": "svzSyuQTbFS6"
      },
      "source": [
        "Como vemos tenemos datos que no corresponden a comunas realmente, así que vamos a omitir los valores como:\n",
        "- \"AU\"\n",
        "- \"Sin Inf\"\n",
        "- \"In\"\n",
        "- \"SN\"\n",
        "- \"0\"\n",
        "\n",
        "Adicionalmente podemos ver valores como:\n",
        "- 60\n",
        "- 70\n",
        "- 80\n",
        "- 90\n",
        "\n",
        "Estos valores los reemplazaremos por:\n",
        "- 6\n",
        "- 7\n",
        "- 8\n",
        "- 9\n",
        "\n",
        "Respectivamente."
      ]
    },
    {
      "cell_type": "code",
      "execution_count": 28,
      "metadata": {
        "id": "WNNplTnocWNv"
      },
      "outputs": [],
      "source": [
        "df = df[df[\"NUMCOMUNA\"]!=\"AU\"]\n",
        "df = df[df[\"NUMCOMUNA\"]!=\"Sin Inf\"]\n",
        "df = df[df[\"NUMCOMUNA\"]!=\"In\"]\n",
        "df = df[df[\"NUMCOMUNA\"]!=\"SN\"]\n",
        "df = df[df[\"NUMCOMUNA\"]!=\"0\"]"
      ]
    },
    {
      "cell_type": "code",
      "execution_count": 29,
      "metadata": {
        "colab": {
          "base_uri": "https://localhost:8080/"
        },
        "id": "AZBRk2-qcd3I",
        "outputId": "579a7783-bfe6-4d95-f6f3-d813e421a6c4"
      },
      "outputs": [
        {
          "data": {
            "text/plain": [
              "['1',\n",
              " '10',\n",
              " '11',\n",
              " '12',\n",
              " '13',\n",
              " '14',\n",
              " '15',\n",
              " '16',\n",
              " '2',\n",
              " '3',\n",
              " '4',\n",
              " '5',\n",
              " '6',\n",
              " '7',\n",
              " '8',\n",
              " '9']"
            ]
          },
          "execution_count": 29,
          "metadata": {},
          "output_type": "execute_result"
        }
      ],
      "source": [
        "df[\"NUMCOMUNA\"] = df[\"NUMCOMUNA\"].apply(lambda x : (int(x)))\n",
        "df[\"NUMCOMUNA\"] = df[\"NUMCOMUNA\"].apply(lambda x : x/10 if x >20 else x)\n",
        "df[\"NUMCOMUNA\"] = df[\"NUMCOMUNA\"].apply(lambda x : str(int(x)))\n",
        "sorted(df[\"NUMCOMUNA\"].unique())"
      ]
    },
    {
      "cell_type": "markdown",
      "metadata": {
        "id": "Eg1uF84ocv09"
      },
      "source": [
        "Cómo vemos ya tenemos la información ajustada a las comunas de Medellín."
      ]
    },
    {
      "cell_type": "markdown",
      "metadata": {
        "id": "g56dHaY_c1A1"
      },
      "source": [
        "## BARRIO"
      ]
    },
    {
      "cell_type": "code",
      "execution_count": 30,
      "metadata": {
        "colab": {
          "base_uri": "https://localhost:8080/"
        },
        "id": "Emahnieyc0JU",
        "outputId": "904e98a0-bb93-4e00-bb59-21538175ad86"
      },
      "outputs": [
        {
          "data": {
            "text/plain": [
              "array(['Barrio Colón', 'San Diego', 'La Francia',\n",
              "       'Santo Domingo Savio No. 1', 'Santa Fé', 'La Florida',\n",
              "       'Los Conquistadores', 'La Alpujarra', 'Villa Nueva',\n",
              "       'Facultad de Minas U. Nacional', 'La Esperanza',\n",
              "       'Perpetuo Socorro', 'Campo Valdés No. 1', 'Miraflores',\n",
              "       'Oleoducto', 'Terminal de Transporte', 'Gerona',\n",
              "       'U.D. Atanasio Girardot', 'Alejandro Echavarría',\n",
              "       'Cabecera San Antonio de Prado', 'Manila', 'Los Balsos No.2',\n",
              "       'Moravia', 'Tenche', 'Universidad Nacional', 'Los Colores',\n",
              "       'Caribe', 'Juan XXIII La Quiebra', 'Belalcázar', 'Santa Cruz',\n",
              "       'Sucre', 'La Candelaria', 'El Estadio', 'Suramericana',\n",
              "       'La Gloria', 'Centro Administrativo', 'Las Estancias',\n",
              "       'Aures No. 2', 'Los Ángeles', 'Castilla', 'La Salle', 'La América',\n",
              "       'Picacho', 'Bosques de San Pablo', 'La Aguacatala',\n",
              "       'Playón de Los Comuneros', 'Estación Villa', 'La Colina',\n",
              "       'Popular', 'Villa del Socorro', 'Cucaracho',\n",
              "       'Santa María de los Ángeles', 'El Chagualo', 'La Mansión',\n",
              "       'San Benito', 'La Castellana', 'Jesús Nazareno', 'Loreto',\n",
              "       'Asomadera No. 1', 'El Salvador', 'Cristo Rey', 'Moscú No. 2',\n",
              "       'La Mota', 'Villa Hermosa', 'Córdoba', 'Campo Amor', 'Naranjal',\n",
              "       'San Isidro', 'Boyacá', 'Belén', 'Miranda', 'Las Palmas',\n",
              "       'Patio Bonito', 'El Castillo', 'Guayabal', 'Girardot',\n",
              "       'Campo Valdés No. 2', 'Doce de Octubre No.1', 'El Raizal',\n",
              "       'Rosales', 'San Martín de Porres', 'Berlin', 'Kennedy',\n",
              "       'El Rincón', 'Carlos E. Restrepo', 'Moscú No. 1',\n",
              "       'Altavista Sector Central', 'San Javier No.1', 'Bolivariana',\n",
              "       'Prado', 'Boston', 'Veinte de Julio', 'Alfonso López',\n",
              "       'Héctor Abad Gómez', 'Parque Juan Pablo II', 'Lorena', 'Los Alpes',\n",
              "       'Parque Norte', 'La Ladera', 'Trinidad', 'Castropol', 'Laureles',\n",
              "       'La Piñuela', 'Aranjuez', 'Robledo', 'Buenos Aires', 'San Germán',\n",
              "       'Bomboná No. 1', 'Área de Expansión Pajarito', 'Santander',\n",
              "       'Simón Bolívar', 'Corazón de Jesús', 'Francisco Antonio Zea',\n",
              "       'Cuarta Brigada', 'Los Mangos', 'Versalles No. 2', 'Calle Nueva',\n",
              "       'Fátima', 'Asomadera No. 2', 'Guayaquil', 'Villa Carlota',\n",
              "       'La Pilarica', 'Los Balsos No.1', 'La Esperanza No. 2',\n",
              "       'San Pedro', 'Manrique Oriental', 'Cerro Nutibara',\n",
              "       'Nueva Villa de la Iguaná', 'Sevilla', 'Manrique Central No. 1',\n",
              "       'Tricentenario', 'El Progreso', 'Campo Alegre', 'El Pomar',\n",
              "       'Florida Nueva', 'Barrio Caicedo', 'Barrio Colombia',\n",
              "       'Cabecera Urbana San Cristobal', 'Los Cerros El Vergel', 'Astorga',\n",
              "       'Santa Mónica', 'La Isla', 'San Bernardo', 'Altamira',\n",
              "       'San Javier No.2', 'La Floresta', 'Aures No.1', 'Cataluña',\n",
              "       'Antonio Nariño', 'López de Mesa', 'Granizal', 'Las Lomas No.1',\n",
              "       'Los Alcázares', 'El Velódromo', 'Santa María de Los Ángeles',\n",
              "       'Nueva Villa de Aburrá', 'Villa Flora', 'Las Acacias',\n",
              "       'Llanaditas', 'Florencia', 'Las Esmeraldas', 'Los Pinos',\n",
              "       'El Danubio', 'Las Granjas', 'El Diamante', 'Lalinde',\n",
              "       'El Diamante No. 2', 'Ferrini', 'Santa Inés', 'Palermo', 'La Cruz',\n",
              "       'Olaya Herrera', 'Belencito', 'Los Naranjos', 'Altavista',\n",
              "       'Manrique Central No. 2', 'Universidad de Antioquia', 'Pedregal',\n",
              "       'Las Brisas', 'El Salado', 'Toscana', 'Calasanz', 'El Tesoro',\n",
              "       'Brasilia', 'Bermejal-Los Alamos', 'El Poblado', 'Villa Guadalupe',\n",
              "       'La Frontera', 'Enciso', 'Villatina', 'Aguas frias', 'Monteclaro',\n",
              "       'María Cano Carambolas', 'Cementerio Universal',\n",
              "       'Campo Valdés No.2', 'Metropolitano', 'Versalles No. 1',\n",
              "       'La Libertad', 'La Rosa', 'San Miguel',\n",
              "       'Suburbano Mirador del Poblado', 'Granada', 'Alejandría',\n",
              "       'Loma de los Bernal', 'Doce de Octubre No.2', 'La Hondonada',\n",
              "       'Santa Margarita', 'San Joaquín', 'Tejelo', 'San Lucas',\n",
              "       'Miravalle', 'Altos del Poblado', 'Manrique Central No.2',\n",
              "       'El Corazón', 'Bello Horizonte', 'La Palma', 'Barrio de Jesús',\n",
              "       'Diego Echavarría', 'El Pinal', 'Las Playas', 'La Oculta',\n",
              "       'La Pradera', 'El Triunfo', 'Las Violetas', 'Mirador del Doce',\n",
              "       'San Pablo', 'Las Lomas No.2', 'Santa Lucía',\n",
              "       'Suburbano Pedregal alto', 'Asomadera No. 3', 'Bomboná No.1',\n",
              "       'Betania', 'Facultad Veterinaria y Zootecnia U.de.A.', 'Andalucía',\n",
              "       'Villa Niza', 'Carpinelo', 'El Progreso No.2', 'Santa Teresita',\n",
              "       'Suburbano Altavista', 'Suburbano La Loma', 'B. Cerro  El Volador',\n",
              "       'Aldea Pablo VI', 'Bomboná No. 2', 'Barrio Cristóbal',\n",
              "       'La Loma Oriental', 'Villa Liliam', 'Villa Turbay',\n",
              "       'Calasanz Parte Alta', 'El Nogal-Los Almendros', 'U.P.B.',\n",
              "       'Oriente', 'Santa Rosa de Lima', 'Santo Domingo Savio No. 2',\n",
              "       'La Milagrosa', 'Blanquizal', 'Plaza de Ferias',\n",
              "       'Área de Expansión San Antonio de Prado', 'Buga Patio Bonito',\n",
              "       'Pajarito', 'Hospital San Vicente de Paúl', 'Fuente Clara',\n",
              "       'Jardín Botánico', 'La Verde', 'El Pesebre', 'El Compromiso',\n",
              "       'El Rodeo', 'Nuevos Conquistadores', 'Suburbano Travesias',\n",
              "       'Palenque', 'Trece de Noviembre', 'San Antonio',\n",
              "       'Manrique Central No.1', 'Juan Pablo II',\n",
              "       'Área de Expansión Altos de Calasanz', 'Las Mercedes',\n",
              "       'El Socorro', 'Pedregal Bajo', 'Eduardo Santos', 'Pedregal Alto',\n",
              "       'Picachito', 'La Avanzada', 'Inst', 'Aguas Frias',\n",
              "       'Suburbano Palmitas', 'Ocho de Marzo', 'Las Independencias',\n",
              "       'Pablo VI', 'Area De Expansion Altavista', 'Suburbano El Plan',\n",
              "       'Versalles No.1', 'Piedras Blancas', 'El Picacho',\n",
              "       'San José la Cima No. 1', '6001', 'Suburbano el Tesoro',\n",
              "       'La Loma de Los Bernal', 'La Sierra', 'Suburbano El Llano',\n",
              "       'Santo Domingo Savio No.1', 'Volcana Guayabal',\n",
              "       'El Corazon El Morro', '7001', 'San José la Cima No.2', 'Yolombo',\n",
              "       'Aures No.2', 'Barrios de Jesús', 'Bel\\\\xE9n', 'Belalc\\\\xE1zar',\n",
              "       'H\\\\xE9ctor Abad G\\\\xF3mez', 'San Joaqu\\\\xEDn', 'Santa F\\\\xE9',\n",
              "       'Coraz\\\\xF3n de Jes\\\\xFAs', 'Alfonso L\\\\xF3pez',\n",
              "       'Santa Mar\\\\xEDa de Los \\\\xC1ngeles', 'El Rinc\\\\xF3n',\n",
              "       'Alejandr\\\\xEDa', 'Campo Vald\\\\xE9s No. 1', 'Bombon\\\\xE1 No. 1',\n",
              "       'Santa In\\\\xE9s', 'Campo Vald\\\\xE9s No. 2', 'Barrio Col\\\\xF3n',\n",
              "       'Jard\\\\xEDn Bot\\\\xE1nico', 'Estaci\\\\xF3n Villa',\n",
              "       'Barrio de Jes\\\\xFAs', 'Barrio Crist\\\\xF3bal', 'Boyac\\\\xE1',\n",
              "       'Mosc\\\\xFA No. 1', 'Sim\\\\xF3n Bol\\\\xEDvar',\n",
              "       'Nueva Villa de la Iguan\\\\xE1', 'Bombon\\\\xE1 No. 2',\n",
              "       'La Pi\\\\xF1uela', 'Play\\\\xF3n de Los Comuneros',\n",
              "       'Jes\\\\xFAs Nazareno', '\\\\xC1rea de Expansi\\\\xF3n Pajarito',\n",
              "       'F\\\\xE1tima', 'San Germ\\\\xE1n', 'Diego Echavarr\\\\xEDa',\n",
              "       'Mosc\\\\xFA No. 2', 'La Am\\\\xE9rica', 'Alejandro Echavarr\\\\xEDa',\n",
              "       'L\\\\xF3pez de Mesa', 'Los \\\\xC1ngeles',\n",
              "       '\\\\xC1rea de Expansi\\\\xF3n Altos de Calasanz',\n",
              "       'Santa Mar\\\\xEDa de los \\\\xC1ngeles', 'Santa M\\\\xF3nica',\n",
              "       'La Mansi\\\\xF3n', 'San Mart\\\\xEDn de Porres', 'C\\\\xF3rdoba',\n",
              "       'Santa Luc\\\\xEDa', 'Batall\\\\xF3n Girardot', 'El Vel\\\\xF3dromo',\n",
              "       'Palmitas Sector Central', 'Andaluc\\\\xEDa', 'Bombon\\\\xE1 No.1',\n",
              "       'Mar\\\\xEDa Cano Carambolas', '0', 'Nueva Villa de Aburr\\\\xE1',\n",
              "       '\\\\xC1rea de Expansi\\\\xF3n San Antonio de Prado',\n",
              "       'Los Alc\\\\xE1zares', 'El Coraz\\\\xF3n',\n",
              "       'Area De Expansion Belen Rincon', 'Catalu\\\\xF1a', 'Berl\\\\xEDn',\n",
              "       'El Vergel', 'Antonio Nari\\\\xF1o',\n",
              "       'Hospital San Vicente de Pa\\\\xFAl', 'Suburbano Palma Patio',\n",
              "       'San Jos\\\\xE9 de la Monta\\\\xF1a', 'SUBURB El Plan',\n",
              "       'Campo Vald\\\\xE9s No.2', 'San Jos\\\\xE9 la Cima No.2',\n",
              "       'Asomadera No.1', 'Piedras Blancas Represa', 'La Loma',\n",
              "       'Batallón Girardot', 'Potrerito', 'Moscú No.2',\n",
              "       'Suburbano La Cuchilla', '1018', '1507', '1504', 'La mota', '1408',\n",
              "       '1011', '1419', '1503', '0907', 'Sin Inf', '1422', '1020', '0408',\n",
              "       '1510', 'Santa Elena Sector Central', '1114', '0205', '1423',\n",
              "       '0402', '0103', '0717', '0505', '1019', '1001', '0509', '0301',\n",
              "       '1101', '0303', '0409', '0811', '0712', '1603', '1003', '0307',\n",
              "       '1204', '0208', '0809', '0306', '0906', '1007', '0413',\n",
              "       'Suburbano Aguas Frias', '1103', '1108', '1511', '0109', '1206',\n",
              "       '0914', '0711', 'San Jose Del Manzanillo', '1613', '0813', '0514',\n",
              "       '1611', '1306', '0819', '7002', 'Suburbano La Palma-El Patio',\n",
              "       '1012', 'Versalles No.2', 'Berlín', 'Media Luna',\n",
              "       'Área de Expansión Altavista',\n",
              "       'Area de Expansion Altos de Calasanz', '0312', '1102', '1202',\n",
              "       '0302', '1105', '1205', 'El Astillero', '0310', '0309', '1211',\n",
              "       '0803', '0105', '0606', '0716', '1605', '0211', '5002',\n",
              "       'Suburbano Piedra Gorda', '0912', 'AUC1', '9004',\n",
              "       'San José de la Montaña', 'El Plan', 'Villa Lilliam', 'El Uvito',\n",
              "       'El Llano SE', 'San Jos\\\\xE9 la Cima No. 1', 'Suburbano Potrerito',\n",
              "       'Yarumalito', 'Mosc\\\\xFA No.2', 'Piedras Blancas - Matasano',\n",
              "       '9086', 'Nueva Villa de La Iguaná', '0903', '1004', '1015', '1620',\n",
              "       '1612', '1008', '0815', '0304', '0202', 'Boqueron', 'Sin Nombre',\n",
              "       'Travesías', 'Moscú No.1'], dtype=object)"
            ]
          },
          "execution_count": 30,
          "metadata": {},
          "output_type": "execute_result"
        }
      ],
      "source": [
        "df[\"BARRIO\"].unique()"
      ]
    },
    {
      "cell_type": "markdown",
      "metadata": {
        "id": "i0Z3gHXPdBy7"
      },
      "source": [
        "Podemos ver que existen nombres de barrios donde al tildar algúna vocal generaron una secuencia de escape que representa un carácter codificado en UTF-8 en hexadecimal esto hace el nombre del barrio bastante ilegible, vamos a darle manejo a esto reemplazado el código respectivo a la vocal o letra especifica."
      ]
    },
    {
      "cell_type": "code",
      "execution_count": 31,
      "metadata": {
        "id": "xVJVe3UidPZW"
      },
      "outputs": [],
      "source": [
        "df[\"BARRIO\"] = df[\"BARRIO\"].apply(lambda x : str(x).lower())\n",
        "df[\"BARRIO\"] = df[\"BARRIO\"].apply(lambda x : str(x).replace(\"\\\\xc1\",\"a\").replace(\"\\\\xe1\",\"a\").replace(\"á\",\"a\"))\n",
        "df[\"BARRIO\"] = df[\"BARRIO\"].apply(lambda x : str(x).replace(\"\\\\xe9\",\"e\").replace(\"é\",\"e\"))\n",
        "df[\"BARRIO\"] = df[\"BARRIO\"].apply(lambda x : str(x).replace(\"\\\\xed\",\"i\").replace(\"í\",\"i\"))\n",
        "df[\"BARRIO\"] = df[\"BARRIO\"].apply(lambda x : str(x).replace(\"\\\\xf3\",\"o\").replace(\"ó\",\"o\"))\n",
        "df[\"BARRIO\"] = df[\"BARRIO\"].apply(lambda x : str(x).replace(\"\\\\xfa\",\"u\").replace(\"ú\",\"u\"))\n",
        "df[\"BARRIO\"] = df[\"BARRIO\"].apply(lambda x : str(x).replace(\"\\\\xf1\",\"ñ\"))"
      ]
    },
    {
      "cell_type": "code",
      "execution_count": 32,
      "metadata": {
        "colab": {
          "base_uri": "https://localhost:8080/"
        },
        "id": "lsAsFah-ejq2",
        "outputId": "f69e8598-2c92-4139-b588-122e92c1d7fb"
      },
      "outputs": [
        {
          "data": {
            "text/plain": [
              "array(['barrio colon', 'san diego', 'la francia',\n",
              "       'santo domingo savio no. 1', 'santa fe', 'la florida',\n",
              "       'los conquistadores', 'la alpujarra', 'villa nueva',\n",
              "       'facultad de minas u. nacional', 'la esperanza',\n",
              "       'perpetuo socorro', 'campo valdes no. 1', 'miraflores',\n",
              "       'oleoducto', 'terminal de transporte', 'gerona',\n",
              "       'u.d. atanasio girardot', 'alejandro echavarria',\n",
              "       'cabecera san antonio de prado', 'manila', 'los balsos no.2',\n",
              "       'moravia', 'tenche', 'universidad nacional', 'los colores',\n",
              "       'caribe', 'juan xxiii la quiebra', 'belalcazar', 'santa cruz',\n",
              "       'sucre', 'la candelaria', 'el estadio', 'suramericana',\n",
              "       'la gloria', 'centro administrativo', 'las estancias',\n",
              "       'aures no. 2', 'los angeles', 'castilla', 'la salle', 'la america',\n",
              "       'picacho', 'bosques de san pablo', 'la aguacatala',\n",
              "       'playon de los comuneros', 'estacion villa', 'la colina',\n",
              "       'popular', 'villa del socorro', 'cucaracho',\n",
              "       'santa maria de los angeles', 'el chagualo', 'la mansion',\n",
              "       'san benito', 'la castellana', 'jesus nazareno', 'loreto',\n",
              "       'asomadera no. 1', 'el salvador', 'cristo rey', 'moscu no. 2',\n",
              "       'la mota', 'villa hermosa', 'cordoba', 'campo amor', 'naranjal',\n",
              "       'san isidro', 'boyaca', 'belen', 'miranda', 'las palmas',\n",
              "       'patio bonito', 'el castillo', 'guayabal', 'girardot',\n",
              "       'campo valdes no. 2', 'doce de octubre no.1', 'el raizal',\n",
              "       'rosales', 'san martin de porres', 'berlin', 'kennedy',\n",
              "       'el rincon', 'carlos e. restrepo', 'moscu no. 1',\n",
              "       'altavista sector central', 'san javier no.1', 'bolivariana',\n",
              "       'prado', 'boston', 'veinte de julio', 'alfonso lopez',\n",
              "       'hector abad gomez', 'parque juan pablo ii', 'lorena', 'los alpes',\n",
              "       'parque norte', 'la ladera', 'trinidad', 'castropol', 'laureles',\n",
              "       'la piñuela', 'aranjuez', 'robledo', 'buenos aires', 'san german',\n",
              "       'bombona no. 1', 'area de expansion pajarito', 'santander',\n",
              "       'simon bolivar', 'corazon de jesus', 'francisco antonio zea',\n",
              "       'cuarta brigada', 'los mangos', 'versalles no. 2', 'calle nueva',\n",
              "       'fatima', 'asomadera no. 2', 'guayaquil', 'villa carlota',\n",
              "       'la pilarica', 'los balsos no.1', 'la esperanza no. 2',\n",
              "       'san pedro', 'manrique oriental', 'cerro nutibara',\n",
              "       'nueva villa de la iguana', 'sevilla', 'manrique central no. 1',\n",
              "       'tricentenario', 'el progreso', 'campo alegre', 'el pomar',\n",
              "       'florida nueva', 'barrio caicedo', 'barrio colombia',\n",
              "       'cabecera urbana san cristobal', 'los cerros el vergel', 'astorga',\n",
              "       'santa monica', 'la isla', 'san bernardo', 'altamira',\n",
              "       'san javier no.2', 'la floresta', 'aures no.1', 'cataluña',\n",
              "       'antonio nariño', 'lopez de mesa', 'granizal', 'las lomas no.1',\n",
              "       'los alcazares', 'el velodromo', 'nueva villa de aburra',\n",
              "       'villa flora', 'las acacias', 'llanaditas', 'florencia',\n",
              "       'las esmeraldas', 'los pinos', 'el danubio', 'las granjas',\n",
              "       'el diamante', 'lalinde', 'el diamante no. 2', 'ferrini',\n",
              "       'santa ines', 'palermo', 'la cruz', 'olaya herrera', 'belencito',\n",
              "       'los naranjos', 'altavista', 'manrique central no. 2',\n",
              "       'universidad de antioquia', 'pedregal', 'las brisas', 'el salado',\n",
              "       'toscana', 'calasanz', 'el tesoro', 'brasilia',\n",
              "       'bermejal-los alamos', 'el poblado', 'villa guadalupe',\n",
              "       'la frontera', 'enciso', 'villatina', 'aguas frias', 'monteclaro',\n",
              "       'maria cano carambolas', 'cementerio universal',\n",
              "       'campo valdes no.2', 'metropolitano', 'versalles no. 1',\n",
              "       'la libertad', 'la rosa', 'san miguel',\n",
              "       'suburbano mirador del poblado', 'granada', 'alejandria',\n",
              "       'loma de los bernal', 'doce de octubre no.2', 'la hondonada',\n",
              "       'santa margarita', 'san joaquin', 'tejelo', 'san lucas',\n",
              "       'miravalle', 'altos del poblado', 'manrique central no.2',\n",
              "       'el corazon', 'bello horizonte', 'la palma', 'barrio de jesus',\n",
              "       'diego echavarria', 'el pinal', 'las playas', 'la oculta',\n",
              "       'la pradera', 'el triunfo', 'las violetas', 'mirador del doce',\n",
              "       'san pablo', 'las lomas no.2', 'santa lucia',\n",
              "       'suburbano pedregal alto', 'asomadera no. 3', 'bombona no.1',\n",
              "       'betania', 'facultad veterinaria y zootecnia u.de.a.', 'andalucia',\n",
              "       'villa niza', 'carpinelo', 'el progreso no.2', 'santa teresita',\n",
              "       'suburbano altavista', 'suburbano la loma', 'b. cerro  el volador',\n",
              "       'aldea pablo vi', 'bombona no. 2', 'barrio cristobal',\n",
              "       'la loma oriental', 'villa liliam', 'villa turbay',\n",
              "       'calasanz parte alta', 'el nogal-los almendros', 'u.p.b.',\n",
              "       'oriente', 'santa rosa de lima', 'santo domingo savio no. 2',\n",
              "       'la milagrosa', 'blanquizal', 'plaza de ferias',\n",
              "       'area de expansion san antonio de prado', 'buga patio bonito',\n",
              "       'pajarito', 'hospital san vicente de paul', 'fuente clara',\n",
              "       'jardin botanico', 'la verde', 'el pesebre', 'el compromiso',\n",
              "       'el rodeo', 'nuevos conquistadores', 'suburbano travesias',\n",
              "       'palenque', 'trece de noviembre', 'san antonio',\n",
              "       'manrique central no.1', 'juan pablo ii',\n",
              "       'area de expansion altos de calasanz', 'las mercedes',\n",
              "       'el socorro', 'pedregal bajo', 'eduardo santos', 'pedregal alto',\n",
              "       'picachito', 'la avanzada', 'inst', 'suburbano palmitas',\n",
              "       'ocho de marzo', 'las independencias', 'pablo vi',\n",
              "       'area de expansion altavista', 'suburbano el plan',\n",
              "       'versalles no.1', 'piedras blancas', 'el picacho',\n",
              "       'san jose la cima no. 1', '6001', 'suburbano el tesoro',\n",
              "       'la loma de los bernal', 'la sierra', 'suburbano el llano',\n",
              "       'santo domingo savio no.1', 'volcana guayabal',\n",
              "       'el corazon el morro', '7001', 'san jose la cima no.2', 'yolombo',\n",
              "       'aures no.2', 'barrios de jesus', 'batallon girardot',\n",
              "       'palmitas sector central', '0', 'area de expansion belen rincon',\n",
              "       'el vergel', 'suburbano palma patio', 'san jose de la montaña',\n",
              "       'suburb el plan', 'asomadera no.1', 'piedras blancas represa',\n",
              "       'la loma', 'potrerito', 'moscu no.2', 'suburbano la cuchilla',\n",
              "       '1018', '1507', '1504', '1408', '1011', '1419', '1503', '0907',\n",
              "       'sin inf', '1422', '1020', '0408', '1510',\n",
              "       'santa elena sector central', '1114', '0205', '1423', '0402',\n",
              "       '0103', '0717', '0505', '1019', '1001', '0509', '0301', '1101',\n",
              "       '0303', '0409', '0811', '0712', '1603', '1003', '0307', '1204',\n",
              "       '0208', '0809', '0306', '0906', '1007', '0413',\n",
              "       'suburbano aguas frias', '1103', '1108', '1511', '0109', '1206',\n",
              "       '0914', '0711', 'san jose del manzanillo', '1613', '0813', '0514',\n",
              "       '1611', '1306', '0819', '7002', 'suburbano la palma-el patio',\n",
              "       '1012', 'versalles no.2', 'media luna', '0312', '1102', '1202',\n",
              "       '0302', '1105', '1205', 'el astillero', '0310', '0309', '1211',\n",
              "       '0803', '0105', '0606', '0716', '1605', '0211', '5002',\n",
              "       'suburbano piedra gorda', '0912', 'auc1', '9004', 'el plan',\n",
              "       'villa lilliam', 'el uvito', 'el llano se', 'suburbano potrerito',\n",
              "       'yarumalito', 'piedras blancas - matasano', '9086', '0903', '1004',\n",
              "       '1015', '1620', '1612', '1008', '0815', '0304', '0202', 'boqueron',\n",
              "       'sin nombre', 'travesias', 'moscu no.1'], dtype=object)"
            ]
          },
          "execution_count": 32,
          "metadata": {},
          "output_type": "execute_result"
        }
      ],
      "source": [
        "df[\"BARRIO\"].unique()"
      ]
    },
    {
      "cell_type": "markdown",
      "metadata": {
        "id": "9BGsGzOfg8K4"
      },
      "source": [
        "## COMUNA"
      ]
    },
    {
      "cell_type": "code",
      "execution_count": 33,
      "metadata": {
        "colab": {
          "base_uri": "https://localhost:8080/"
        },
        "id": "JlvVy6UUg9xb",
        "outputId": "75f71bcb-a071-4df9-a089-3b171d0eff24"
      },
      "outputs": [
        {
          "data": {
            "text/plain": [
              "array(['La Candelaria', 'Santa Cruz', 'Popular', 'Guayabal', 'El Poblado',\n",
              "       'Laureles Estadio', 'Robledo', 'Doce de Octubre', 'Aranjuez',\n",
              "       'Buenos Aires', 'Castilla',\n",
              "       'Corregimiento de San Antonio de Prado', 'San Javier',\n",
              "       'Villa Hermosa', 'Belén', 'Manrique', 'La América',\n",
              "       'Corregimiento de Altavista', 'Corregimiento de San Cristóbal',\n",
              "       'Corregimiento de Santa Elena', 'In',\n",
              "       'Corregimiento de San Sebastián de Palmitas', 'Bel\\\\xE9n',\n",
              "       'La Am\\\\xE9rica', 'Corregimiento de San Crist\\\\xF3bal',\n",
              "       'Corregimiento de San Sebasti\\\\xE1n de Palmitas', 'AU'],\n",
              "      dtype=object)"
            ]
          },
          "execution_count": 33,
          "metadata": {},
          "output_type": "execute_result"
        }
      ],
      "source": [
        "df[\"COMUNA\"].unique()"
      ]
    },
    {
      "cell_type": "markdown",
      "metadata": {
        "id": "TCHDOiWlhCkJ"
      },
      "source": [
        "Para la columna \"COMUNA\" tenemos un caso similar al barrio, vamos a darle el mismo tratamiento."
      ]
    },
    {
      "cell_type": "code",
      "execution_count": 34,
      "metadata": {
        "id": "ov1JiMQ7hU9d"
      },
      "outputs": [
        {
          "data": {
            "text/plain": [
              "array(['la candelaria', 'santa cruz', 'popular', 'guayabal', 'el poblado',\n",
              "       'laureles estadio', 'robledo', 'doce de octubre', 'aranjuez',\n",
              "       'buenos aires', 'castilla',\n",
              "       'corregimiento de san antonio de prado', 'san javier',\n",
              "       'villa hermosa', 'belen', 'manrique', 'la america',\n",
              "       'corregimiento de altavista', 'corregimiento de san cristobal',\n",
              "       'corregimiento de santa elena', 'in',\n",
              "       'corregimiento de san sebastian de palmitas', 'au'], dtype=object)"
            ]
          },
          "execution_count": 34,
          "metadata": {},
          "output_type": "execute_result"
        }
      ],
      "source": [
        "df[\"COMUNA\"] = df[\"COMUNA\"].apply(lambda x : str(x).lower())\n",
        "df[\"COMUNA\"] = df[\"COMUNA\"].apply(lambda x : str(x).replace(\"\\\\xc1\",\"a\").replace(\"\\\\xe1\",\"a\").replace(\"á\",\"a\"))\n",
        "\n",
        "df[\"COMUNA\"] = df[\"COMUNA\"].apply(lambda x : str(x).replace(\"\\\\xe9\",\"e\").replace(\"é\",\"e\"))\n",
        "\n",
        "df[\"COMUNA\"] = df[\"COMUNA\"].apply(lambda x : str(x).replace(\"\\\\xf3\",\"o\").replace(\"ó\",\"o\"))\n",
        "\n",
        "df[\"COMUNA\"].unique()"
      ]
    },
    {
      "cell_type": "markdown",
      "metadata": {
        "id": "-qhN6G3glPnQ"
      },
      "source": [
        "## LOCATION, X, Y"
      ]
    },
    {
      "cell_type": "code",
      "execution_count": 35,
      "metadata": {
        "colab": {
          "base_uri": "https://localhost:8080/"
        },
        "id": "GsD8J-XfkJ7F",
        "outputId": "3bf17382-9e6c-4d98-f5e7-ae2dabe95c09"
      },
      "outputs": [
        {
          "data": {
            "text/plain": [
              "0    [-75.5688011014, 6.24312304123]\n",
              "1    [-75.5693883283, 6.22870030622]\n",
              "2    [-75.5503911403, 6.29869502502]\n",
              "3    [-75.5442195069, 6.30019383306]\n",
              "4     [-75.578180998, 6.21699243701]\n",
              "5      [-75.561118009, 6.2047775959]\n",
              "6    [-75.5810144962, 6.24576066323]\n",
              "7    [-75.5752597216, 6.24685341912]\n",
              "8    [-75.5624178534, 6.25341454089]\n",
              "9    [-75.5931430393, 6.27330476643]\n",
              "Name: LOCATION, dtype: object"
            ]
          },
          "execution_count": 35,
          "metadata": {},
          "output_type": "execute_result"
        }
      ],
      "source": [
        "df[\"LOCATION\"].head(10)"
      ]
    },
    {
      "cell_type": "code",
      "execution_count": 36,
      "metadata": {
        "colab": {
          "base_uri": "https://localhost:8080/"
        },
        "id": "QDG9qG24lYZF",
        "outputId": "203c99ee-d1b2-4f07-964b-5706960aff68"
      },
      "outputs": [
        {
          "data": {
            "text/plain": [
              "0    834949.69\n",
              "1    834880.17\n",
              "2    837004.94\n",
              "3    837688.53\n",
              "4    833903.11\n",
              "5    835788.30\n",
              "6    833598.49\n",
              "7    834235.89\n",
              "8    835659.53\n",
              "9    832264.64\n",
              "Name: X, dtype: float64"
            ]
          },
          "execution_count": 36,
          "metadata": {},
          "output_type": "execute_result"
        }
      ],
      "source": [
        "df[\"X\"].head(10)"
      ]
    },
    {
      "cell_type": "code",
      "execution_count": 37,
      "metadata": {
        "colab": {
          "base_uri": "https://localhost:8080/"
        },
        "id": "2jsO03TPkJ29",
        "outputId": "d65749ff-9858-4924-a54a-785a10185adb"
      },
      "outputs": [
        {
          "data": {
            "text/plain": [
              "0    1182357.34\n",
              "1    1180762.02\n",
              "2    1188499.17\n",
              "3    1188663.05\n",
              "4    1179469.60\n",
              "5    1178113.02\n",
              "6    1182652.97\n",
              "7    1182772.04\n",
              "8    1183493.83\n",
              "9    1185703.90\n",
              "Name: Y, dtype: float64"
            ]
          },
          "execution_count": 37,
          "metadata": {},
          "output_type": "execute_result"
        }
      ],
      "source": [
        "df[\"Y\"].head(10)"
      ]
    },
    {
      "cell_type": "markdown",
      "metadata": {
        "id": "uFN2-vzglucz"
      },
      "source": [
        "Estas columnas aparentemente se encuentran bien, así que no los vamos a modificar."
      ]
    },
    {
      "cell_type": "markdown",
      "metadata": {
        "id": "onou2-YOlza4"
      },
      "source": [
        "## Manejo de columnas"
      ]
    },
    {
      "cell_type": "markdown",
      "metadata": {
        "id": "E3KtKKnNlzYY"
      },
      "source": [
        "Ahora vamos a eliminar algunas columnas que tienen datos redundantes con otras, por ejemplo:\n",
        "\n",
        "- Direccion encasillada redunda con la columna Direccion\n",
        "- Fecha accidentes redunda con la columna Fecha accidente\n",
        "- Expediente redunda con la columna Nro radicado\n",
        "- Comuna redunda con numcomuna"
      ]
    },
    {
      "cell_type": "code",
      "execution_count": 38,
      "metadata": {
        "id": "XOLhfmPhnjjJ"
      },
      "outputs": [],
      "source": [
        "df.drop_duplicates(inplace = True)\n",
        "df.drop(labels = [\"DIRECCION ENCASILLADA\", \"EXPEDIENTE\", \"FECHA_ACCIDENTES\", \"NRO_RADICADO\", \"COMUNA\"], axis=1, inplace=True)"
      ]
    },
    {
      "cell_type": "code",
      "execution_count": 39,
      "metadata": {
        "colab": {
          "base_uri": "https://localhost:8080/",
          "height": 687
        },
        "id": "fzlEC2-HnqSv",
        "outputId": "2d53df79-5fc2-44fd-8275-99f3848ea21c"
      },
      "outputs": [
        {
          "data": {
            "text/html": [
              "<div>\n",
              "<style scoped>\n",
              "    .dataframe tbody tr th:only-of-type {\n",
              "        vertical-align: middle;\n",
              "    }\n",
              "\n",
              "    .dataframe tbody tr th {\n",
              "        vertical-align: top;\n",
              "    }\n",
              "\n",
              "    .dataframe thead th {\n",
              "        text-align: right;\n",
              "    }\n",
              "</style>\n",
              "<table border=\"1\" class=\"dataframe\">\n",
              "  <thead>\n",
              "    <tr style=\"text-align: right;\">\n",
              "      <th></th>\n",
              "      <th>AÑO</th>\n",
              "      <th>CBML</th>\n",
              "      <th>CLASE_ACCIDENTE</th>\n",
              "      <th>DIRECCION</th>\n",
              "      <th>DISEÑO</th>\n",
              "      <th>FECHA_ACCIDENTE</th>\n",
              "      <th>GRAVEDAD_ACCIDENTE</th>\n",
              "      <th>MES</th>\n",
              "      <th>NUMCOMUNA</th>\n",
              "      <th>BARRIO</th>\n",
              "      <th>LOCATION</th>\n",
              "      <th>X</th>\n",
              "      <th>Y</th>\n",
              "    </tr>\n",
              "  </thead>\n",
              "  <tbody>\n",
              "    <tr>\n",
              "      <th>0</th>\n",
              "      <td>2015</td>\n",
              "      <td>1013</td>\n",
              "      <td>caida ocupante</td>\n",
              "      <td>CR 46 CL 43</td>\n",
              "      <td>tramo de via</td>\n",
              "      <td>2015-10-21 05:58:00</td>\n",
              "      <td>con heridos</td>\n",
              "      <td>10</td>\n",
              "      <td>10</td>\n",
              "      <td>barrio colon</td>\n",
              "      <td>[-75.5688011014, 6.24312304123]</td>\n",
              "      <td>834949.69</td>\n",
              "      <td>1182357.34</td>\n",
              "    </tr>\n",
              "    <tr>\n",
              "      <th>1</th>\n",
              "      <td>2015</td>\n",
              "      <td>1020</td>\n",
              "      <td>choque</td>\n",
              "      <td>CR 43 A CL 29</td>\n",
              "      <td>tramo de via</td>\n",
              "      <td>2015-11-05 03:00:00</td>\n",
              "      <td>solo daños</td>\n",
              "      <td>11</td>\n",
              "      <td>10</td>\n",
              "      <td>san diego</td>\n",
              "      <td>[-75.5693883283, 6.22870030622]</td>\n",
              "      <td>834880.17</td>\n",
              "      <td>1180762.02</td>\n",
              "    </tr>\n",
              "    <tr>\n",
              "      <th>2</th>\n",
              "      <td>2015</td>\n",
              "      <td>0205</td>\n",
              "      <td>otro</td>\n",
              "      <td>CR 46 CL 37</td>\n",
              "      <td>tramo de via</td>\n",
              "      <td>2015-10-21 07:40:00</td>\n",
              "      <td>con heridos</td>\n",
              "      <td>10</td>\n",
              "      <td>2</td>\n",
              "      <td>la francia</td>\n",
              "      <td>[-75.5503911403, 6.29869502502]</td>\n",
              "      <td>837004.94</td>\n",
              "      <td>1188499.17</td>\n",
              "    </tr>\n",
              "    <tr>\n",
              "      <th>3</th>\n",
              "      <td>2015</td>\n",
              "      <td>0101</td>\n",
              "      <td>atropello</td>\n",
              "      <td>CR 34 CL 112</td>\n",
              "      <td>tramo de via</td>\n",
              "      <td>2015-10-21 12:00:00</td>\n",
              "      <td>con heridos</td>\n",
              "      <td>10</td>\n",
              "      <td>1</td>\n",
              "      <td>santo domingo savio no. 1</td>\n",
              "      <td>[-75.5442195069, 6.30019383306]</td>\n",
              "      <td>837688.53</td>\n",
              "      <td>1188663.05</td>\n",
              "    </tr>\n",
              "    <tr>\n",
              "      <th>4</th>\n",
              "      <td>2015</td>\n",
              "      <td>1504</td>\n",
              "      <td>choque</td>\n",
              "      <td>CR 50 CL 14</td>\n",
              "      <td>tramo de via</td>\n",
              "      <td>2015-11-03 06:16:00</td>\n",
              "      <td>solo daños</td>\n",
              "      <td>11</td>\n",
              "      <td>15</td>\n",
              "      <td>santa fe</td>\n",
              "      <td>[-75.578180998, 6.21699243701]</td>\n",
              "      <td>833903.11</td>\n",
              "      <td>1179469.60</td>\n",
              "    </tr>\n",
              "    <tr>\n",
              "      <th>...</th>\n",
              "      <td>...</td>\n",
              "      <td>...</td>\n",
              "      <td>...</td>\n",
              "      <td>...</td>\n",
              "      <td>...</td>\n",
              "      <td>...</td>\n",
              "      <td>...</td>\n",
              "      <td>...</td>\n",
              "      <td>...</td>\n",
              "      <td>...</td>\n",
              "      <td>...</td>\n",
              "      <td>...</td>\n",
              "      <td>...</td>\n",
              "    </tr>\n",
              "    <tr>\n",
              "      <th>270760</th>\n",
              "      <td>2017</td>\n",
              "      <td>0913</td>\n",
              "      <td>atropello</td>\n",
              "      <td>CR 28 CL 38 F</td>\n",
              "      <td>lote o predio</td>\n",
              "      <td>2017-04-21 17:30:00</td>\n",
              "      <td>con heridos</td>\n",
              "      <td>4</td>\n",
              "      <td>9</td>\n",
              "      <td>loreto</td>\n",
              "      <td>[-75.5559460731, 6.23260034372]</td>\n",
              "      <td>836369.48</td>\n",
              "      <td>1181189.27</td>\n",
              "    </tr>\n",
              "    <tr>\n",
              "      <th>270761</th>\n",
              "      <td>2017</td>\n",
              "      <td>1115</td>\n",
              "      <td>caida ocupante</td>\n",
              "      <td>CL 53 CR 69</td>\n",
              "      <td>lote o predio</td>\n",
              "      <td>2017-03-10 16:30:00</td>\n",
              "      <td>con heridos</td>\n",
              "      <td>3</td>\n",
              "      <td>11</td>\n",
              "      <td>cuarta brigada</td>\n",
              "      <td>[-75.5851522144, 6.26044928627]</td>\n",
              "      <td>833145.10</td>\n",
              "      <td>1184279.21</td>\n",
              "    </tr>\n",
              "    <tr>\n",
              "      <th>270762</th>\n",
              "      <td>2017</td>\n",
              "      <td>0513</td>\n",
              "      <td>choque</td>\n",
              "      <td>CR 64 C CL 92</td>\n",
              "      <td>tramo de via</td>\n",
              "      <td>2017-03-10 17:10:00</td>\n",
              "      <td>solo daños</td>\n",
              "      <td>3</td>\n",
              "      <td>5</td>\n",
              "      <td>francisco antonio zea</td>\n",
              "      <td>[-75.5713587099, 6.28457841509]</td>\n",
              "      <td>834679.61</td>\n",
              "      <td>1186944.12</td>\n",
              "    </tr>\n",
              "    <tr>\n",
              "      <th>270763</th>\n",
              "      <td>2017</td>\n",
              "      <td>0607</td>\n",
              "      <td>caida ocupante</td>\n",
              "      <td>CR 78 A CL 92</td>\n",
              "      <td>tramo de via</td>\n",
              "      <td>2017-03-10 20:00:00</td>\n",
              "      <td>con heridos</td>\n",
              "      <td>3</td>\n",
              "      <td>6</td>\n",
              "      <td>kennedy</td>\n",
              "      <td>[-75.5831132045, 6.28957484792]</td>\n",
              "      <td>833380.07</td>\n",
              "      <td>1187500.58</td>\n",
              "    </tr>\n",
              "    <tr>\n",
              "      <th>270764</th>\n",
              "      <td>2017</td>\n",
              "      <td>0507</td>\n",
              "      <td>choque</td>\n",
              "      <td>CR 63 CL 110</td>\n",
              "      <td>tramo de via</td>\n",
              "      <td>2017-03-10 22:40:00</td>\n",
              "      <td>solo daños</td>\n",
              "      <td>3</td>\n",
              "      <td>5</td>\n",
              "      <td>hector abad gomez</td>\n",
              "      <td>[-75.5581989157, 6.30346727931]</td>\n",
              "      <td>836142.21</td>\n",
              "      <td>1189029.54</td>\n",
              "    </tr>\n",
              "  </tbody>\n",
              "</table>\n",
              "<p>249552 rows × 13 columns</p>\n",
              "</div>"
            ],
            "text/plain": [
              "         AÑO  CBML CLASE_ACCIDENTE      DIRECCION         DISEÑO  \\\n",
              "0       2015  1013  caida ocupante    CR 46 CL 43   tramo de via   \n",
              "1       2015  1020          choque  CR 43 A CL 29   tramo de via   \n",
              "2       2015  0205            otro    CR 46 CL 37   tramo de via   \n",
              "3       2015  0101       atropello   CR 34 CL 112   tramo de via   \n",
              "4       2015  1504          choque    CR 50 CL 14   tramo de via   \n",
              "...      ...   ...             ...            ...            ...   \n",
              "270760  2017  0913       atropello  CR 28 CL 38 F  lote o predio   \n",
              "270761  2017  1115  caida ocupante    CL 53 CR 69  lote o predio   \n",
              "270762  2017  0513          choque  CR 64 C CL 92   tramo de via   \n",
              "270763  2017  0607  caida ocupante  CR 78 A CL 92   tramo de via   \n",
              "270764  2017  0507          choque   CR 63 CL 110   tramo de via   \n",
              "\n",
              "           FECHA_ACCIDENTE GRAVEDAD_ACCIDENTE  MES NUMCOMUNA  \\\n",
              "0      2015-10-21 05:58:00        con heridos   10        10   \n",
              "1      2015-11-05 03:00:00         solo daños   11        10   \n",
              "2      2015-10-21 07:40:00        con heridos   10         2   \n",
              "3      2015-10-21 12:00:00        con heridos   10         1   \n",
              "4      2015-11-03 06:16:00         solo daños   11        15   \n",
              "...                    ...                ...  ...       ...   \n",
              "270760 2017-04-21 17:30:00        con heridos    4         9   \n",
              "270761 2017-03-10 16:30:00        con heridos    3        11   \n",
              "270762 2017-03-10 17:10:00         solo daños    3         5   \n",
              "270763 2017-03-10 20:00:00        con heridos    3         6   \n",
              "270764 2017-03-10 22:40:00         solo daños    3         5   \n",
              "\n",
              "                           BARRIO                         LOCATION          X  \\\n",
              "0                    barrio colon  [-75.5688011014, 6.24312304123]  834949.69   \n",
              "1                       san diego  [-75.5693883283, 6.22870030622]  834880.17   \n",
              "2                      la francia  [-75.5503911403, 6.29869502502]  837004.94   \n",
              "3       santo domingo savio no. 1  [-75.5442195069, 6.30019383306]  837688.53   \n",
              "4                        santa fe   [-75.578180998, 6.21699243701]  833903.11   \n",
              "...                           ...                              ...        ...   \n",
              "270760                     loreto  [-75.5559460731, 6.23260034372]  836369.48   \n",
              "270761             cuarta brigada  [-75.5851522144, 6.26044928627]  833145.10   \n",
              "270762      francisco antonio zea  [-75.5713587099, 6.28457841509]  834679.61   \n",
              "270763                    kennedy  [-75.5831132045, 6.28957484792]  833380.07   \n",
              "270764          hector abad gomez  [-75.5581989157, 6.30346727931]  836142.21   \n",
              "\n",
              "                 Y  \n",
              "0       1182357.34  \n",
              "1       1180762.02  \n",
              "2       1188499.17  \n",
              "3       1188663.05  \n",
              "4       1179469.60  \n",
              "...            ...  \n",
              "270760  1181189.27  \n",
              "270761  1184279.21  \n",
              "270762  1186944.12  \n",
              "270763  1187500.58  \n",
              "270764  1189029.54  \n",
              "\n",
              "[249552 rows x 13 columns]"
            ]
          },
          "execution_count": 39,
          "metadata": {},
          "output_type": "execute_result"
        }
      ],
      "source": [
        "df"
      ]
    },
    {
      "cell_type": "markdown",
      "metadata": {
        "id": "8dbZmSvcoaix"
      },
      "source": [
        "## Archivo de salida\n",
        "\n",
        "Ahora vamos generar el archivo con los datos tratados."
      ]
    },
    {
      "cell_type": "code",
      "execution_count": 40,
      "metadata": {
        "id": "OGkPuF22oN8v"
      },
      "outputs": [],
      "source": [
        "df.to_csv(\"dataTratada.csv\", index=False)"
      ]
    },
    {
      "cell_type": "markdown",
      "metadata": {},
      "source": [
        "# Construcción del modelo"
      ]
    }
  ],
  "metadata": {
    "colab": {
      "provenance": []
    },
    "kernelspec": {
      "display_name": "Python 3",
      "name": "python3"
    },
    "language_info": {
      "codemirror_mode": {
        "name": "ipython",
        "version": 3
      },
      "file_extension": ".py",
      "mimetype": "text/x-python",
      "name": "python",
      "nbconvert_exporter": "python",
      "pygments_lexer": "ipython3",
      "version": "3.10.6"
    }
  },
  "nbformat": 4,
  "nbformat_minor": 0
}
